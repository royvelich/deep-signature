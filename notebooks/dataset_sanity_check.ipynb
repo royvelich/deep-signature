{
 "metadata": {
  "language_info": {
   "codemirror_mode": {
    "name": "ipython",
    "version": 3
   },
   "file_extension": ".py",
   "mimetype": "text/x-python",
   "name": "python",
   "nbconvert_exporter": "python",
   "pygments_lexer": "ipython3",
   "version": "3.8.5-final"
  },
  "orig_nbformat": 2,
  "kernelspec": {
   "name": "Python 3.8.5 64-bit ('deep-signature': conda)",
   "display_name": "Python 3.8.5 64-bit ('deep-signature': conda)",
   "metadata": {
    "interpreter": {
     "hash": "41a0ca9e4c4ec3d89a6c31f24496e44b5b8f56452df177c648ab52011368caf2"
    }
   }
  }
 },
 "nbformat": 4,
 "nbformat_minor": 2,
 "cells": [
  {
   "source": [
    "Import packages:"
   ],
   "cell_type": "markdown",
   "metadata": {}
  },
  {
   "cell_type": "code",
   "execution_count": null,
   "metadata": {},
   "outputs": [],
   "source": [
    "import os\n",
    "import scipy.io\n",
    "import numpy\n",
    "import scipy.stats as ss\n",
    "import matplotlib.pyplot as plt\n",
    "import matplotlib.collections as mcoll\n",
    "import torch\n",
    "from torch.utils.data.sampler import SubsetRandomSampler\n",
    "from deep_signature.training import DeepSignatureDataset\n",
    "from IPython.display import display, HTML"
   ]
  },
  {
   "source": [
    "Plot a sample of positive examples:"
   ],
   "cell_type": "markdown",
   "metadata": {}
  },
  {
   "cell_type": "code",
   "execution_count": null,
   "metadata": {
    "tags": []
   },
   "outputs": [],
   "source": [
    "epochs = 10\n",
    "batch_size = 16\n",
    "validation_split = .2\n",
    "shuffle_dataset = True\n",
    "random_seed = 42\n",
    "\n",
    "dataset = DeepSignatureDataset(dir_path='./dataset2')\n",
    "dataset_size = len(dataset)\n",
    "indices = list(range(dataset_size))\n",
    "split = int(numpy.floor(validation_split * dataset_size))\n",
    "\n",
    "if shuffle_dataset is True:\n",
    "    numpy.random.seed(random_seed)\n",
    "    numpy.random.shuffle(indices)\n",
    "\n",
    "train_indices, validation_indices = indices[split:], indices[:split]\n",
    "\n",
    "train_sampler = SubsetRandomSampler(train_indices)\n",
    "validation_sampler = SubsetRandomSampler(validation_indices)\n",
    "\n",
    "train_loader = torch.utils.data.DataLoader(dataset, batch_size=batch_size, sampler=train_sampler)\n",
    "validation_loader = torch.utils.data.DataLoader(dataset, batch_size=batch_size, sampler=validation_sampler)\n",
    "\n",
    "plt.style.use(\"dark_background\")\n",
    "display(HTML('<h1>Random samples of positive and negative examples:</h1>'))\n",
    "for i, data in enumerate(train_loader, 0):\n",
    "\n",
    "    if i == 1:\n",
    "        break\n",
    "\n",
    "    display(HTML(f'<h2>Batch #{i}:</h2>'))\n",
    "    for sample_index in range(batch_size):\n",
    "\n",
    "        fig, ax = plt.subplots(1, 2, figsize=(80,40))\n",
    "\n",
    "        label = data['labels'][sample_index]\n",
    "\n",
    "        if label == 1:\n",
    "            sample_type = 'Positive'\n",
    "        else:\n",
    "            sample_type = 'Negative'\n",
    "\n",
    "        display(HTML(f'<h3>{sample_type} sample #{sample_index}:</h3>'))\n",
    "\n",
    "        curve1 = data['curves'][0][sample_index][0]\n",
    "        curve2 = data['curves'][1][sample_index][0]\n",
    "        \n",
    "        x1 = curve1[:,0].cpu().numpy()\n",
    "        y1 = curve1[:,1].cpu().numpy()\n",
    "        x2 = curve2[:,0].cpu().numpy()\n",
    "        y2 = curve2[:,1].cpu().numpy()\n",
    "\n",
    "        ax[0].axis('equal')\n",
    "        ax[1].axis('equal')\n",
    "\n",
    "        ax[0].scatter(x=x1, y=y1, s=10)\n",
    "        ax[1].scatter(x=x2, y=y2, s=10)\n",
    "\n",
    "        for label in (ax[0].get_xticklabels() + ax[0].get_yticklabels()):\n",
    "            label.set_fontsize(30)\n",
    "\n",
    "        for label in (ax[1].get_xticklabels() + ax[1].get_yticklabels()):\n",
    "            label.set_fontsize(30)\n",
    "        \n",
    "        plt.show()"
   ]
  },
  {
   "cell_type": "code",
   "execution_count": null,
   "metadata": {},
   "outputs": [],
   "source": []
  }
 ]
}