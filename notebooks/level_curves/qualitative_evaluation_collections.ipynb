{
 "cells": [
  {
   "cell_type": "code",
   "execution_count": null,
   "metadata": {},
   "outputs": [],
   "source": [
    "# python peripherals\n",
    "import os\n",
    "import sys\n",
    "sys.path.insert(1, os.path.join(sys.path[0], '../..'))\n",
    "\n",
    "# numpy\n",
    "import numpy\n",
    "\n",
    "# ipython\n",
    "from IPython.display import display, HTML\n",
    "\n",
    "# matplotlib\n",
    "import matplotlib.pyplot as plt\n",
    "import matplotlib.ticker as ticker\n",
    "\n",
    "# pytorch\n",
    "import torch\n",
    "from torch.utils.data.sampler import SubsetRandomSampler\n",
    "from torch.utils.data.sampler import SequentialSampler\n",
    "from torch.utils.data import DataLoader\n",
    "\n",
    "# deep signature\n",
    "from deep_signature.data_generation.curve_generation import LevelCurvesGenerator\n",
    "from deep_signature.data_manipulation import curve_processing\n",
    "from deep_signature.linalg import transformations\n",
    "\n",
    "# utils\n",
    "from utils import common as common_utils\n",
    "from utils import evaluation as evaluation_utils\n",
    "from utils import plot as plot_utils\n",
    "from utils import settings"
   ]
  },
  {
   "cell_type": "code",
   "execution_count": null,
   "metadata": {},
   "outputs": [],
   "source": [
    "import warnings\n",
    "warnings.filterwarnings(\"ignore\")\n",
    "\n",
    "# constants\n",
    "true_arclength_colors = ['#FF8C00', '#444444']\n",
    "predicted_arclength_colors = ['#AA0000', '#0000AA']\n",
    "sample_colors = ['#FF0000', '#0000FF']\n",
    "curve_colors = ['#FF0000', '#0000FF', '#FF9D11']\n",
    "limit = 5\n",
    "factor_extraction_limit = -1\n",
    "comparison_curves_count = 2\n",
    "sampling_ratio = 0.8\n",
    "anchors_ratio = None\n",
    "collection = 'rabbits'\n",
    "transform_type = 'affine'\n",
    "plots_dir_name=f'collections_signatures_{collection}'\n",
    "plots_dir_name_forced=f'collections_signatures_{collection}_forced'\n",
    "\n",
    "# randomness\n",
    "numpy.random.seed(30)\n",
    "\n",
    "# models\n",
    "curvature_model, arclength_model = common_utils.load_models(transform_type=transform_type)\n",
    "\n",
    "# curves\n",
    "curves = numpy.load(file=os.path.normpath(f\"C:/deep-signature-data/level-curves/curves/test_raw/affine/multimodality_25/{collection}@2x_1.npy\"), allow_pickle=True)\n",
    "# curves = curves[:limit]\n",
    "\n",
    "# create color map\n",
    "color_map = plt.get_cmap('rainbow', limit)"
   ]
  },
  {
   "cell_type": "code",
   "execution_count": null,
   "metadata": {},
   "outputs": [],
   "source": [
    "# generate curve records\n",
    "curve_records = evaluation_utils.generate_curve_records(\n",
    "    arclength_model=arclength_model,\n",
    "    curvature_model=curvature_model,\n",
    "    curves=curves,\n",
    "    factor_extraction_curves=[],\n",
    "    transform_type=transform_type,\n",
    "    comparison_curves_count=comparison_curves_count,\n",
    "    sampling_ratio=sampling_ratio,\n",
    "    anchors_ratio=anchors_ratio,\n",
    "    neighborhood_supporting_points_count=settings.curvature_default_supporting_points_count,\n",
    "    section_supporting_points_count=settings.arclength_default_supporting_points_count,\n",
    "    do_not_downsample_first=True,\n",
    "    rotation=False)"
   ]
  },
  {
   "cell_type": "code",
   "execution_count": null,
   "metadata": {},
   "outputs": [],
   "source": [
    "plot_utils.plot_curve_comparisons(\n",
    "    curve_records=curve_records, \n",
    "    curve_colors=curve_colors,\n",
    "    sampling_ratio=sampling_ratio,\n",
    "    transformation_group_type=transform_type,\n",
    "    plot_to_screen=False,\n",
    "    normalize_signature=True,\n",
    "    plots_dir_name=plots_dir_name)"
   ]
  },
  {
   "cell_type": "code",
   "execution_count": null,
   "metadata": {},
   "outputs": [],
   "source": [
    "# curve_records_forced = evaluation_utils.generate_curve_records(\n",
    "#     arclength_model=arclength_model,\n",
    "#     curvature_model=curvature_model,\n",
    "#     curves=curves,\n",
    "#     factor_extraction_curves=[],\n",
    "#     transform_type=transform_type,\n",
    "#     comparison_curves_count=comparison_curves_count,\n",
    "#     sampling_ratio=sampling_ratio,\n",
    "#     anchors_ratio=anchors_ratio,\n",
    "#     neighborhood_supporting_points_count=settings.curvature_default_supporting_points_count,\n",
    "#     section_supporting_points_count=settings.arclength_default_supporting_points_count,\n",
    "#     do_not_downsample_first=True,\n",
    "#     rotation=False,\n",
    "#     first_curve_index=1)"
   ]
  },
  {
   "cell_type": "code",
   "execution_count": null,
   "metadata": {},
   "outputs": [],
   "source": [
    "# plot_utils.plot_curve_comparisons(\n",
    "#     curve_records=curve_records_forced, \n",
    "#     curve_colors=curve_colors,\n",
    "#     sampling_ratio=sampling_ratio,\n",
    "#     transformation_group_type=transform_type,\n",
    "#     plot_to_screen=False,\n",
    "#     normalize_signature=False,\n",
    "#     plots_dir_name=plots_dir_name_forced)"
   ]
  },
  {
   "cell_type": "code",
   "execution_count": null,
   "metadata": {},
   "outputs": [],
   "source": [
    "# def plot_graph(ax, x, y, linewidth=2, color='red', alpha=1, zorder=1, label=None):\n",
    "#     return ax.plot(x, y, linewidth=linewidth, color=color, alpha=alpha, zorder=zorder, label=label)\n",
    "\n",
    "\n",
    "# def plot_curve(ax, curve, linewidth=2, color='red', alpha=1, zorder=1, label=None):\n",
    "#     x = curve[:, 0]\n",
    "#     y = curve[:, 1]\n",
    "#     return plot_graph(ax=ax, x=y, y=-x, linewidth=linewidth, color=color, alpha=alpha, zorder=zorder, label=label)\n",
    "#     # return plot_graph(ax=ax, x=x, y=y, linewidth=linewidth, color=color, alpha=alpha, zorder=zorder, label=label)\n",
    "\n",
    "# num_figs = int(numpy.floor(numpy.sqrt(curves.shape[0]))) + 1\n",
    "# print(num_figs)\n",
    "# fig, ax = plt.subplots(num_figs, num_figs, figsize=(30,30))\n",
    "\n",
    "# for curr_ax in ax.reshape(-1):\n",
    "#     curr_ax.axis('off')\n",
    "#     curr_ax.axis('equal')\n",
    "\n",
    "\n",
    "# for i, curve in enumerate(curves):\n",
    "#     curr_ax = ax[int(i / num_figs), int(i % num_figs)]\n",
    "#     plot_curve(ax=curr_ax, curve=curves[i], color='black', linewidth=10)\n",
    "\n",
    "# plt.show()\n",
    "# fig.savefig(os.path.normpath(os.path.join(settings.plots_dir, f\"./{plots_dir_name}_{sampling_ratio}_{transform_type}/{collection}.png\")))"
   ]
  }
 ],
 "metadata": {
  "interpreter": {
   "hash": "41a0ca9e4c4ec3d89a6c31f24496e44b5b8f56452df177c648ab52011368caf2"
  },
  "kernelspec": {
   "display_name": "Python 3.8.12 ('deep-signature')",
   "language": "python",
   "name": "python3"
  },
  "language_info": {
   "codemirror_mode": {
    "name": "ipython",
    "version": 3
   },
   "file_extension": ".py",
   "mimetype": "text/x-python",
   "name": "python",
   "nbconvert_exporter": "python",
   "pygments_lexer": "ipython3",
   "version": "3.9.7"
  },
  "orig_nbformat": 4
 },
 "nbformat": 4,
 "nbformat_minor": 2
}
