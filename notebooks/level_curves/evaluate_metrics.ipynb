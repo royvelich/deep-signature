{
 "cells": [
  {
   "cell_type": "markdown",
   "source": [
    "  # GLOBAL SETTINGS"
   ],
   "metadata": {}
  },
  {
   "cell_type": "code",
   "execution_count": null,
   "source": [
    "# python peripherals\r\n",
    "import random\r\n",
    "import os\r\n",
    "import sys\r\n",
    "import math\r\n",
    "sys.path.insert(1, os.path.join(sys.path[0], '../..'))\r\n",
    "\r\n",
    "# numpy\r\n",
    "import numpy\r\n",
    "\r\n",
    "# pandas\r\n",
    "import pandas\r\n",
    "\r\n",
    "# ipython\r\n",
    "from IPython.display import display, HTML\r\n",
    "\r\n",
    "# matplotlib\r\n",
    "import matplotlib.pyplot as plt\r\n",
    "import matplotlib.ticker as ticker\r\n",
    "import matplotlib.lines\r\n",
    "\r\n",
    "# pytorch\r\n",
    "import torch\r\n",
    "from torch.utils.data.sampler import SubsetRandomSampler\r\n",
    "from torch.utils.data.sampler import SequentialSampler\r\n",
    "from torch.utils.data import DataLoader\r\n",
    "\r\n",
    "# deep signature\r\n",
    "from deep_signature.utils import utils\r\n",
    "from deep_signature.data_generation.curve_generation import LevelCurvesGenerator\r\n",
    "from deep_signature.data_manipulation import curve_processing\r\n",
    "from deep_signature.nn.datasets import DeepSignatureTupletsDataset\r\n",
    "from deep_signature.nn.networks import DeepSignatureArcLengthNet\r\n",
    "from deep_signature.nn.networks import DeepSignatureCurvatureNet\r\n",
    "from deep_signature.nn.losses import ContrastiveLoss\r\n",
    "from deep_signature.nn.trainers import ModelTrainer\r\n",
    "from deep_signature.data_manipulation import curve_sampling\r\n",
    "from deep_signature.data_manipulation import curve_processing\r\n",
    "from deep_signature.linalg import euclidean_transform\r\n",
    "from deep_signature.linalg import affine_transform\r\n",
    "\r\n",
    "# common\r\n",
    "from common import settings\r\n",
    "from common import utils as common_utils\r\n",
    "\r\n",
    "# notebooks\r\n",
    "from notebooks.utils import utils as notebook_utils\r\n"
   ],
   "outputs": [],
   "metadata": {}
  },
  {
   "cell_type": "markdown",
   "source": [
    "  # IMPORT PACKAGES"
   ],
   "metadata": {}
  },
  {
   "cell_type": "code",
   "execution_count": null,
   "source": [
    "# plt.style.use(\"dark_background\")\r\n",
    "\r\n",
    "transform_type = 'affine'\r\n",
    "\r\n",
    "if transform_type == 'euclidean':\r\n",
    "    level_curves_arclength_tuplets_dir_path = settings.level_curves_euclidean_arclength_tuplets_dir_path\r\n",
    "    level_curves_arclength_tuplets_results_dir_path = settings.level_curves_euclidean_arclength_tuplets_results_dir_path\r\n",
    "elif transform_type == 'equiaffine':\r\n",
    "    level_curves_arclength_tuplets_dir_path = settings.level_curves_equiaffine_arclength_tuplets_dir_path\r\n",
    "    level_curves_arclength_tuplets_results_dir_path = settings.level_curves_equiaffine_arclength_tuplets_results_dir_path\r\n",
    "elif transform_type == 'affine':\r\n",
    "    level_curves_arclength_tuplets_dir_path = settings.level_curves_affine_arclength_tuplets_dir_path\r\n",
    "    level_curves_arclength_tuplets_results_dir_path = settings.level_curves_affine_arclength_tuplets_results_dir_path\r\n",
    "\r\n",
    "if transform_type == 'euclidean':\r\n",
    "    level_curves_curvature_tuplets_dir_path = settings.level_curves_euclidean_curvature_tuplets_dir_path\r\n",
    "    level_curves_curvature_tuplets_results_dir_path = settings.level_curves_euclidean_curvature_tuplets_results_dir_path\r\n",
    "elif transform_type == 'equiaffine':\r\n",
    "    level_curves_curvature_tuplets_dir_path = settings.level_curves_equiaffine_curvature_tuplets_dir_path\r\n",
    "    level_curves_curvature_tuplets_results_dir_path = settings.level_curves_equiaffine_curvature_tuplets_results_dir_path\r\n",
    "elif transform_type == 'affine':\r\n",
    "    level_curves_curvature_tuplets_dir_path = settings.level_curves_affine_curvature_tuplets_dir_path\r\n",
    "    level_curves_curvature_tuplets_results_dir_path = settings.level_curves_affine_curvature_tuplets_results_dir_path"
   ],
   "outputs": [],
   "metadata": {}
  },
  {
   "cell_type": "markdown",
   "source": [
    "  # CURVES"
   ],
   "metadata": {}
  },
  {
   "cell_type": "code",
   "execution_count": null,
   "source": [
    "# curves = LevelCurvesGenerator.load_curves(dir_path=settings.level_curves_dir_path_train)\r\n",
    "# limit = 10\r\n",
    "# color_map = plt.get_cmap('rainbow', limit)\r\n",
    "# for i, curve in enumerate(curves[:limit]): \r\n",
    "#     fig, ax = plt.subplots(1, 1, figsize=(80,40))\r\n",
    "#     for label in (ax.get_xticklabels() + ax.get_yticklabels()):\r\n",
    "#         label.set_fontsize(30)\r\n",
    "#     ax.axis('equal')\r\n",
    "#     notebook_utils.plot_curve(ax=ax, curve=curve, linewidth=5)\r\n",
    "#     plt.show()\r\n"
   ],
   "outputs": [],
   "metadata": {}
  },
  {
   "cell_type": "markdown",
   "source": [
    "  # LEARNING CURVE"
   ],
   "metadata": {}
  },
  {
   "cell_type": "code",
   "execution_count": null,
   "source": [
    "latest_subdir = common_utils.get_latest_subdirectory(level_curves_arclength_tuplets_results_dir_path)\r\n",
    "results = numpy.load(f\"{latest_subdir}/results.npy\", allow_pickle=True).item()\r\n",
    "\r\n",
    "# results2 = numpy.load(f\"C:/deep-signature-data/level-curves/results/tuplets/arclength/2021-01-14-02-42-52/results.npy\", allow_pickle=True).item()\r\n",
    "\r\n",
    "epochs = results['epochs']\r\n",
    "batch_size = results['batch_size']\r\n",
    "start_index = 0\r\n",
    "train_loss_array = results['train_loss_array'][start_index:]\r\n",
    "validation_loss_array = results['validation_loss_array'][start_index:]\r\n",
    "\r\n",
    "# train_loss_array2 = results2['train_loss_array']\r\n",
    "# validation_loss_array2 = results2['validation_loss_array']\r\n",
    "\r\n",
    "epochs_list = numpy.array(range(len(train_loss_array)))\r\n",
    "# epochs_list2 = numpy.array(range(len(train_loss_array2)))\r\n",
    "\r\n",
    "fig, ax = plt.subplots(1, 1, figsize=(10,10))\r\n",
    "ax.xaxis.set_major_locator(ticker.MaxNLocator(integer=True))\r\n",
    "\r\n",
    "for label in (ax.get_xticklabels() + ax.get_yticklabels()):\r\n",
    "    label.set_fontsize(20)\r\n",
    "\r\n",
    "ax.plot(epochs_list, train_loss_array, label='Train Loss', linewidth=4.0)\r\n",
    "ax.plot(epochs_list, validation_loss_array, label='Validation Loss', linewidth=4.0)\r\n",
    "\r\n",
    "# ax.plot(epochs_list2, train_loss_array2, label='Train Loss2', linewidth=4.0)\r\n",
    "# ax.plot(epochs_list2, validation_loss_array2, label='Validation Loss2', linewidth=4.0)\r\n",
    "\r\n",
    "plt.legend(fontsize=20, title_fontsize=20)\r\n",
    "\r\n",
    "# print(train_loss_array)\r\n",
    "# print(validation_loss_array)\r\n",
    "plt.show()"
   ],
   "outputs": [],
   "metadata": {}
  },
  {
   "cell_type": "markdown",
   "source": [
    "  # ARC-LENGTH"
   ],
   "metadata": {}
  },
  {
   "cell_type": "markdown",
   "source": [
    "## INITIALIZATION ##"
   ],
   "metadata": {}
  },
  {
   "cell_type": "code",
   "execution_count": null,
   "source": [
    "# constants\r\n",
    "limit = 10\r\n",
    "arclength_sample_points = 40\r\n",
    "step=80\r\n",
    "curvature_supporting_points_count = 3\r\n",
    "curvature_max_offset = 6\r\n",
    "curvature_sample_points = 2 * curvature_supporting_points_count + 1\r\n",
    "arclength_section_length = 70\r\n",
    "curvature_step = 1\r\n",
    "comparison_curves_count = 1\r\n",
    "device = torch.device('cuda')\r\n",
    "\r\n",
    "# if we're in the equiaffine case, snap 'step' to the closest mutiple of 3 (from above)\r\n",
    "# if transform_type == \"equiaffine\":\r\n",
    "#     step = int(3 * numpy.ceil(step / 3))\r\n",
    "\r\n",
    "# package settings\r\n",
    "torch.set_default_dtype(torch.float64)\r\n",
    "numpy.random.seed(60)\r\n",
    "\r\n",
    "# create models\r\n",
    "arclength_model = DeepSignatureArcLengthNet(sample_points=arclength_sample_points).cuda()\r\n",
    "# curvature_model = DeepSignatureCurvatureNet(sample_points=curvature_sample_points).cuda()\r\n",
    "\r\n",
    "# load arclength model state\r\n",
    "latest_subdir = common_utils.get_latest_subdirectory(level_curves_arclength_tuplets_results_dir_path)\r\n",
    "# latest_subdir = common_utils.get_latest_subdirectory(settings.level_curves_equiaffine_arclength_tuplets_results_dir_path)\r\n",
    "results = numpy.load(f\"{latest_subdir}/results.npy\", allow_pickle=True).item()\r\n",
    "arclength_model.load_state_dict(torch.load(results['model_file_path'], map_location=device))\r\n",
    "arclength_model.eval()\r\n",
    "\r\n",
    "# load curvature model state\r\n",
    "# latest_subdir = common_utils.get_latest_subdirectory(level_curves_curvature_tuplets_results_dir_path)\r\n",
    "# results = numpy.load(f\"{latest_subdir}/results.npy\", allow_pickle=True).item()\r\n",
    "# curvature_model.load_state_dict(torch.load(results['model_file_path'], map_location=device))\r\n",
    "# curvature_model.eval()\r\n",
    "\r\n",
    "# load curves (+ shuffle)\r\n",
    "curves = LevelCurvesGenerator.load_curves(dir_path=settings.level_curves_dir_path_train)\r\n",
    "numpy.random.shuffle(curves)\r\n",
    "curves = curves[:limit]\r\n",
    "\r\n",
    "# create color map\r\n",
    "color_map = plt.get_cmap('rainbow', limit)\r\n"
   ],
   "outputs": [],
   "metadata": {}
  },
  {
   "cell_type": "markdown",
   "source": [
    "  ## EVALUATE ARC-LENGTH"
   ],
   "metadata": {}
  },
  {
   "cell_type": "code",
   "execution_count": null,
   "source": [
    "import warnings\r\n",
    "warnings.filterwarnings(\"ignore\")\r\n",
    "\r\n",
    "true_arclength_colors = ['#FF8C00', '#444444']\r\n",
    "predicted_arclength_colors = ['#AA0000', '#00AA00']\r\n",
    "sample_colors = ['#AA0000', '#00AA00']\r\n",
    "curve_colors = ['#AA0000', '#00AA00']\r\n",
    "\r\n",
    "curve_records = notebook_utils.generate_curve_records(\r\n",
    "    arclength_model=arclength_model,\r\n",
    "    curves=curves,\r\n",
    "    transform_type=transform_type,\r\n",
    "    comparison_curves_count=comparison_curves_count,\r\n",
    "    step=step,\r\n",
    "    section_points_count=arclength_sample_points)\r\n",
    "\r\n",
    "# notebook_utils.plot_curve_arclength_comparisions(\r\n",
    "#     curve_records=curve_records, \r\n",
    "#     true_arclength_colors=true_arclength_colors, \r\n",
    "#     predicted_arclength_colors=predicted_arclength_colors, \r\n",
    "#     sample_colors=sample_colors, \r\n",
    "#     curve_color='#FF8C00', \r\n",
    "#     anchor_color='#3333FF', \r\n",
    "#     first_anchor_color='#FF0FF0')\r\n",
    "\r\n",
    "notebook_utils.plot_curve_arclength_records(\r\n",
    "    curve_records=curve_records, \r\n",
    "    true_arclength_colors=true_arclength_colors,\r\n",
    "    predicted_arclength_colors=predicted_arclength_colors,\r\n",
    "    sample_colors=sample_colors)\r\n",
    "\r\n",
    "# notebook_utils.plot_curve_curvature_comparisons(\r\n",
    "#     curve_records=curve_records, \r\n",
    "#     curve_colors=curve_colors)\r\n",
    "\r\n",
    "# notebook_utils.plot_curve_signature_comparisions(\r\n",
    "#     curve_records=curve_records, \r\n",
    "#     curve_colors=curve_colors)"
   ],
   "outputs": [],
   "metadata": {}
  },
  {
   "cell_type": "code",
   "execution_count": null,
   "source": [],
   "outputs": [],
   "metadata": {}
  }
 ],
 "metadata": {
  "interpreter": {
   "hash": "41a0ca9e4c4ec3d89a6c31f24496e44b5b8f56452df177c648ab52011368caf2"
  },
  "kernelspec": {
   "name": "python3",
   "display_name": "Python 3.8.10 64-bit ('deep-signature': conda)"
  },
  "language_info": {
   "name": "python",
   "version": "3.8.10",
   "mimetype": "text/x-python",
   "codemirror_mode": {
    "name": "ipython",
    "version": 3
   },
   "pygments_lexer": "ipython3",
   "nbconvert_exporter": "python",
   "file_extension": ".py"
  },
  "orig_nbformat": 2
 },
 "nbformat": 4,
 "nbformat_minor": 2
}