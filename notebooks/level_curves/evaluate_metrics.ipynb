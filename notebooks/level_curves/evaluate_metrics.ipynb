{
 "cells": [
  {
   "cell_type": "markdown",
   "metadata": {},
   "source": [
    "  # GLOBAL SETTINGS"
   ]
  },
  {
   "cell_type": "code",
   "execution_count": null,
   "metadata": {},
   "outputs": [],
   "source": [
    "# python peripherals\n",
    "import random\n",
    "import os\n",
    "import sys\n",
    "import math\n",
    "sys.path.insert(1, os.path.join(sys.path[0], '../..'))\n",
    "\n",
    "# numpy\n",
    "import numpy\n",
    "\n",
    "# pandas\n",
    "import pandas\n",
    "\n",
    "# ipython\n",
    "from IPython.display import display, HTML\n",
    "\n",
    "# matplotlib\n",
    "import matplotlib.pyplot as plt\n",
    "import matplotlib.ticker as ticker\n",
    "import matplotlib.lines\n",
    "\n",
    "# pytorch\n",
    "import torch\n",
    "from torch.utils.data.sampler import SubsetRandomSampler\n",
    "from torch.utils.data.sampler import SequentialSampler\n",
    "from torch.utils.data import DataLoader\n",
    "\n",
    "# deep signature\n",
    "from deep_signature.utils import utils\n",
    "from deep_signature.data_generation.curve_generation import LevelCurvesGenerator\n",
    "from deep_signature.data_manipulation import curve_processing\n",
    "from deep_signature.nn.datasets import DeepSignatureTupletsDataset\n",
    "from deep_signature.nn.networks import DeepSignatureArcLengthNet\n",
    "from deep_signature.nn.networks import DeepSignatureCurvatureNet\n",
    "from deep_signature.nn.losses import ContrastiveLoss\n",
    "from deep_signature.nn.trainers import ModelTrainer\n",
    "from deep_signature.data_manipulation import curve_sampling\n",
    "from deep_signature.data_manipulation import curve_processing\n",
    "from deep_signature.linalg import euclidean_transform\n",
    "from deep_signature.linalg import affine_transform\n",
    "\n",
    "# common\n",
    "from common import settings\n",
    "from common import utils as common_utils\n",
    "\n",
    "# notebooks\n",
    "from notebooks.utils import utils as notebook_utils"
   ]
  },
  {
   "cell_type": "markdown",
   "metadata": {},
   "source": [
    "  # IMPORT PACKAGES"
   ]
  },
  {
   "cell_type": "code",
   "execution_count": null,
   "metadata": {},
   "outputs": [],
   "source": [
    "# plt.style.use(\"dark_background\")\n",
    "\n",
    "transform_type = 'euclidean'\n",
    "\n",
    "if transform_type == 'euclidean':\n",
    "    level_curves_arclength_tuplets_dir_path = settings.level_curves_euclidean_arclength_tuplets_dir_path\n",
    "    level_curves_arclength_tuplets_results_dir_path = settings.level_curves_euclidean_arclength_tuplets_results_dir_path\n",
    "elif transform_type == 'equiaffine':\n",
    "    level_curves_arclength_tuplets_dir_path = settings.level_curves_equiaffine_arclength_tuplets_dir_path\n",
    "    level_curves_arclength_tuplets_results_dir_path = settings.level_curves_equiaffine_arclength_tuplets_results_dir_path\n",
    "elif transform_type == 'affine':\n",
    "    level_curves_arclength_tuplets_dir_path = settings.level_curves_affine_arclength_tuplets_dir_path\n",
    "    level_curves_arclength_tuplets_results_dir_path = settings.level_curves_affine_arclength_tuplets_results_dir_path\n",
    "\n",
    "if transform_type == 'euclidean':\n",
    "    level_curves_curvature_tuplets_dir_path = settings.level_curves_euclidean_curvature_tuplets_dir_path\n",
    "    level_curves_curvature_tuplets_results_dir_path = settings.level_curves_euclidean_curvature_tuplets_results_dir_path\n",
    "elif transform_type == 'equiaffine':\n",
    "    level_curves_curvature_tuplets_dir_path = settings.level_curves_equiaffine_curvature_tuplets_dir_path\n",
    "    level_curves_curvature_tuplets_results_dir_path = settings.level_curves_equiaffine_curvature_tuplets_results_dir_path\n",
    "elif transform_type == 'affine':\n",
    "    level_curves_curvature_tuplets_dir_path = settings.level_curves_affine_curvature_tuplets_dir_path\n",
    "    level_curves_curvature_tuplets_results_dir_path = settings.level_curves_affine_curvature_tuplets_results_dir_path"
   ]
  },
  {
   "cell_type": "markdown",
   "metadata": {},
   "source": [
    "  # LEARNING CURVES"
   ]
  },
  {
   "cell_type": "code",
   "execution_count": null,
   "metadata": {},
   "outputs": [],
   "source": [
    "def plot_learning_curve(results_dir_path, title):\n",
    "    latest_subdir = common_utils.get_latest_subdirectory(results_dir_path)\n",
    "    results = numpy.load(f\"{latest_subdir}/results.npy\", allow_pickle=True).item()\n",
    "\n",
    "    # epochs = results['epochs']\n",
    "    # batch_size = results['batch_size']\n",
    "    start_index = 0\n",
    "    end_index = None\n",
    "    train_loss_array = results['train_loss_array'][start_index:] if end_index is None else results['train_loss_array'][start_index:end_index]\n",
    "    validation_loss_array = results['validation_loss_array'][start_index:] if end_index is None else results['validation_loss_array'][start_index:end_index]\n",
    "\n",
    "    train_loss_array_no_nan = train_loss_array[~numpy.isnan(train_loss_array)]\n",
    "    validation_loss_array_no_nan = validation_loss_array[~numpy.isnan(validation_loss_array)]\n",
    "\n",
    "    epochs_list = numpy.array(range(len(train_loss_array)))\n",
    "\n",
    "    fig, ax = plt.subplots(1, 1, figsize=(10,10))\n",
    "    ax.xaxis.set_major_locator(ticker.MaxNLocator(integer=True))\n",
    "\n",
    "    for label in (ax.get_xticklabels() + ax.get_yticklabels()):\n",
    "        label.set_fontsize(20)\n",
    "\n",
    "    ax.plot(epochs_list, train_loss_array, label='Train Loss', linewidth=4.0)\n",
    "    ax.plot(epochs_list, validation_loss_array, label='Validation Loss', linewidth=4.0)\n",
    "    ax.set_title(title, fontsize=30)\n",
    "\n",
    "    plt.legend(fontsize=20, title_fontsize=20)\n",
    "\n",
    "    print(numpy.min(train_loss_array_no_nan))\n",
    "    print(numpy.min(validation_loss_array_no_nan))\n",
    "\n",
    "    plt.show()\n",
    "\n",
    "plot_learning_curve(level_curves_curvature_tuplets_results_dir_path, 'Curvature Learning Curve')\n",
    "plot_learning_curve(level_curves_arclength_tuplets_results_dir_path, 'Arc-Length Learning Curve')"
   ]
  },
  {
   "cell_type": "markdown",
   "metadata": {},
   "source": [
    "  # CURVE RECORDS EXTRACTION"
   ]
  },
  {
   "cell_type": "code",
   "execution_count": null,
   "metadata": {},
   "outputs": [],
   "source": [
    "import warnings\n",
    "warnings.filterwarnings(\"ignore\")\n",
    "\n",
    "# constants\n",
    "true_arclength_colors = ['#FF8C00', '#444444']\n",
    "predicted_arclength_colors = ['#AA0000', '#00AA00']\n",
    "sample_colors = ['#AA0000', '#00AA00']\n",
    "curve_colors = ['#AA0000', '#00AA00', '#0000AA']\n",
    "limit = 1\n",
    "factor_extraction_limit = -2\n",
    "# step = settings.arclength_default_supporting_points_count - 1\n",
    "step = 40\n",
    "comparison_curves_count = 2\n",
    "sampling_ratio = 0.7\n",
    "anchors_ratio = 1\n",
    "\n",
    "device = torch.device('cuda')\n",
    "\n",
    "# if we're in the equiaffine case, snap 'step' to the closest mutiple of 3 (from above)\n",
    "# if transform_type == \"equiaffine\":\n",
    "#     step = int(3 * numpy.ceil(step / 3))\n",
    "\n",
    "# package settings\n",
    "torch.set_default_dtype(torch.float64)\n",
    "numpy.random.seed(60)\n",
    "\n",
    "# create models\n",
    "arclength_model = DeepSignatureArcLengthNet(sample_points=settings.arclength_default_supporting_points_count).cuda()\n",
    "curvature_model = DeepSignatureCurvatureNet(sample_points=settings.curvature_default_sample_points_count).cuda()\n",
    "\n",
    "# load arclength model state\n",
    "latest_subdir = common_utils.get_latest_subdirectory(level_curves_arclength_tuplets_results_dir_path)\n",
    "results = numpy.load(f\"{latest_subdir}/results.npy\", allow_pickle=True).item()\n",
    "arclength_model.load_state_dict(torch.load(results['model_file_path'], map_location=device))\n",
    "arclength_model.eval()\n",
    "\n",
    "# load curvature model state\n",
    "latest_subdir = common_utils.get_latest_subdirectory(level_curves_curvature_tuplets_results_dir_path)\n",
    "results = numpy.load(f\"{latest_subdir}/results.npy\", allow_pickle=True).item()\n",
    "curvature_model.load_state_dict(torch.load(results['model_file_path'], map_location=device))\n",
    "curvature_model.eval()\n",
    "\n",
    "# load curves (+ shuffle)\n",
    "# curves_train = LevelCurvesGenerator.load_curves(dir_path=settings.level_curves_dir_path_train)\n",
    "# curves_validation = LevelCurvesGenerator.load_curves(dir_path=settings.level_curves_dir_path_validation)\n",
    "curves_full = LevelCurvesGenerator.load_curves(dir_path=settings.level_curves_dir_path_test)\n",
    "curves = []\n",
    "for curve in curves_full:\n",
    "    if 1000 < curve.shape[0] < 1200:\n",
    "        curves.append(curve)\n",
    "    # if curve.shape[0] < 540:\n",
    "    #     curves.append(curve)\n",
    "\n",
    "print(len(curves))\n",
    "\n",
    "# print(len(curves_train))\n",
    "# print(len(curves_validation))\n",
    "# print(len(curves_test))\n",
    "\n",
    "numpy.random.shuffle(curves)\n",
    "curves_limited = curves[:limit]\n",
    "factor_extraction_curves = curves[factor_extraction_limit:]\n",
    "\n",
    "# create color map\n",
    "color_map = plt.get_cmap('rainbow', limit)\n",
    "\n",
    "# generate curve records\n",
    "curve_records = notebook_utils.generate_curve_records(\n",
    "    arclength_model=arclength_model,\n",
    "    curvature_model=curvature_model,\n",
    "    curves=curves_limited,\n",
    "    factor_extraction_curves=factor_extraction_curves,\n",
    "    transform_type=transform_type,\n",
    "    comparison_curves_count=comparison_curves_count,\n",
    "    sampling_ratio=sampling_ratio,\n",
    "    anchors_ratio=anchors_ratio,\n",
    "    step=step,\n",
    "    neighborhood_supporting_points_count=settings.curvature_default_supporting_points_count,\n",
    "    section_supporting_points_count=settings.arclength_default_supporting_points_count)"
   ]
  },
  {
   "cell_type": "markdown",
   "metadata": {},
   "source": [
    "  # EVALUATE CURVATURE"
   ]
  },
  {
   "cell_type": "code",
   "execution_count": null,
   "metadata": {},
   "outputs": [],
   "source": [
    "# notebook_utils.plot_curve_curvature_comparisons(\n",
    "#     curve_records=curve_records, \n",
    "#     curve_colors=curve_colors)"
   ]
  },
  {
   "cell_type": "markdown",
   "metadata": {},
   "source": [
    "  # EVALUATE ARC-LENGTH"
   ]
  },
  {
   "cell_type": "code",
   "execution_count": null,
   "metadata": {},
   "outputs": [],
   "source": [
    "# notebook_utils.plot_curve_arclength_records(\n",
    "#     curve_records=curve_records, \n",
    "#     true_arclength_colors=true_arclength_colors,\n",
    "#     predicted_arclength_colors=predicted_arclength_colors,\n",
    "#     curve_colors=curve_colors)"
   ]
  },
  {
   "cell_type": "markdown",
   "metadata": {},
   "source": [
    "  # EVALUATE SIGNATURES"
   ]
  },
  {
   "cell_type": "code",
   "execution_count": null,
   "metadata": {},
   "outputs": [],
   "source": [
    "# notebook_utils.plot_curve_signature_comparisons(\n",
    "#     curve_records=curve_records, \n",
    "#     predicted_signature_colors=predicted_arclength_colors,\n",
    "#     true_signature_colors=true_arclength_colors,\n",
    "#     sample_colors=sample_colors)"
   ]
  },
  {
   "cell_type": "markdown",
   "metadata": {},
   "source": [
    "# EVALUATE SIGNATURE METRICS"
   ]
  },
  {
   "cell_type": "code",
   "execution_count": null,
   "metadata": {},
   "outputs": [],
   "source": [
    "metrics = notebook_utils.calculate_signature_metrics(curve_records=curve_records)\n",
    "print(metrics)"
   ]
  },
  {
   "cell_type": "code",
   "execution_count": null,
   "metadata": {},
   "outputs": [],
   "source": []
  }
 ],
 "metadata": {
  "interpreter": {
   "hash": "41a0ca9e4c4ec3d89a6c31f24496e44b5b8f56452df177c648ab52011368caf2"
  },
  "kernelspec": {
   "display_name": "Python 3.8.12 64-bit ('deep-signature': conda)",
   "name": "python3"
  },
  "language_info": {
   "codemirror_mode": {
    "name": "ipython",
    "version": 3
   },
   "file_extension": ".py",
   "mimetype": "text/x-python",
   "name": "python",
   "nbconvert_exporter": "python",
   "pygments_lexer": "ipython3",
   "version": "3.8.12"
  },
  "orig_nbformat": 2
 },
 "nbformat": 4,
 "nbformat_minor": 2
}
