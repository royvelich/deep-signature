{
 "cells": [
  {
   "cell_type": "markdown",
   "metadata": {},
   "source": [
    "  # GLOBAL SETTINGS"
   ]
  },
  {
   "cell_type": "code",
   "execution_count": null,
   "metadata": {},
   "outputs": [],
   "source": [
    "# python peripherals\n",
    "import os\n",
    "import sys\n",
    "sys.path.insert(1, os.path.join(sys.path[0], '../..'))\n",
    "\n",
    "# numpy\n",
    "import numpy\n",
    "\n",
    "# ipython\n",
    "from IPython.display import display, HTML\n",
    "\n",
    "# matplotlib\n",
    "import matplotlib.pyplot as plt\n",
    "import matplotlib.ticker as ticker\n",
    "\n",
    "# pytorch\n",
    "import torch\n",
    "from torch.utils.data.sampler import SubsetRandomSampler\n",
    "from torch.utils.data.sampler import SequentialSampler\n",
    "from torch.utils.data import DataLoader\n",
    "\n",
    "# deep signature\n",
    "from deep_signature.data_generation.curve_generation import LevelCurvesGenerator\n",
    "from deep_signature.data_manipulation import curve_processing\n",
    "\n",
    "# utils\n",
    "from utils import common as common_utils\n",
    "from utils import evaluation as evaluation_utils\n",
    "from utils import plot as plot_utils\n",
    "from utils import settings"
   ]
  },
  {
   "cell_type": "markdown",
   "metadata": {},
   "source": [
    "  # LEARNING CURVES"
   ]
  },
  {
   "cell_type": "code",
   "execution_count": null,
   "metadata": {},
   "outputs": [],
   "source": [
    "def plot_learning_curve(results_dir_path, title):\n",
    "    latest_subdir = common_utils.get_latest_subdirectory(results_dir_path)\n",
    "    results = numpy.load(f\"{latest_subdir}/results.npy\", allow_pickle=True).item()\n",
    "    # results = numpy.load(f\"C:/deep-signature-data/level-curves/results/tuplets/arclength/affine/2021-11-24-00-00-00/results.npy\", allow_pickle=True).item()\n",
    "\n",
    "    start_index = 0\n",
    "    end_index = None\n",
    "    train_loss_array = results['train_loss_array'][start_index:] if end_index is None else results['train_loss_array'][start_index:end_index]\n",
    "    validation_loss_array = results['validation_loss_array'][start_index:] if end_index is None else results['validation_loss_array'][start_index:end_index]\n",
    "\n",
    "    train_loss_array_no_nan = train_loss_array[~numpy.isnan(train_loss_array)]\n",
    "    validation_loss_array_no_nan = validation_loss_array[~numpy.isnan(validation_loss_array)]\n",
    "\n",
    "    epochs_list = numpy.array(range(len(train_loss_array)))\n",
    "\n",
    "    fig, ax = plt.subplots(1, 1, figsize=(20,20))\n",
    "    ax.xaxis.set_major_locator(ticker.MaxNLocator(integer=True))\n",
    "\n",
    "    for label in (ax.get_xticklabels() + ax.get_yticklabels()):\n",
    "        label.set_fontsize(20)\n",
    "\n",
    "    ax.plot(epochs_list, train_loss_array, label='Train Loss', linewidth=4.0)\n",
    "    ax.plot(epochs_list, validation_loss_array, label='Validation Loss', linewidth=4.0)\n",
    "    ax.set_title(title, fontsize=30)\n",
    "\n",
    "    plt.legend(fontsize=20, title_fontsize=20)\n",
    "\n",
    "    print(numpy.min(train_loss_array_no_nan))\n",
    "    print(numpy.min(validation_loss_array_no_nan))\n",
    "\n",
    "    plt.show()\n",
    "    \n",
    "group = 'similarity'\n",
    "# data_dir = settings.data_dir\n",
    "curvature_results_dir_path = common_utils.get_results_dir(data_dir=settings.data_dir, invariant='curvature', group=group)\n",
    "arclength_results_dir_path = common_utils.get_results_dir(data_dir=settings.data_dir, invariant='arclength', group=group)\n",
    "\n",
    "# level_curves_curvature_tuplets_results_dir_path, level_curves_arclength_tuplets_results_dir_path = common_utils.get_results_dir_path(transform_type=transform_type)\n",
    "# plot_learning_curve(level_curves_curvature_tuplets_results_dir_path, 'Curvature Learnin\"g Curve')\n",
    "plot_learning_curve(results_dir_path=arclength_results_dir_path, title='Arc-Length Learning Curve')"
   ]
  },
  {
   "cell_type": "markdown",
   "metadata": {},
   "source": [
    "# PLOT CURVES"
   ]
  },
  {
   "cell_type": "code",
   "execution_count": null,
   "metadata": {},
   "outputs": [],
   "source": [
    "# def plot_sample(ax, sample, color, zorder, point_size=10, alpha=1, x=None, y=None):\n",
    "#     if sample is not None:\n",
    "#         x = sample[:, 0]\n",
    "#         y = sample[:, 1]\n",
    "\n",
    "#     return ax.scatter(\n",
    "#         x=x,\n",
    "#         y=y,\n",
    "#         s=point_size,\n",
    "#         color=color,\n",
    "#         alpha=alpha,\n",
    "#         zorder=zorder)\n",
    "\n",
    "\n",
    "# # curves_full = LevelCurvesGenerator.load_curves(dir_path=os.path.normpath(\"C:/GitHub/deep-signature/applets/level_curves/evaluation/\"))\n",
    "# curves_full = LevelCurvesGenerator.load_curves(dir_path=os.path.normpath(settings.level_curves_dir_path_test))\n",
    "# curves = []\n",
    "# for curve in curves_full:\n",
    "#     if 1000 < curve.shape[0] < 1400:\n",
    "#         curves.append(curve)\n",
    "\n",
    "# for curve in curves[:6]:\n",
    "#     fig, ax = plt.subplots(nrows=1, ncols=1, figsize=(40, 20))\n",
    "#     plot_sample(ax=ax, sample=curve, color='red', zorder=10)\n",
    "#     plt.show()        "
   ]
  },
  {
   "cell_type": "markdown",
   "metadata": {},
   "source": [
    "  # CURVE RECORDS EXTRACTION"
   ]
  },
  {
   "cell_type": "code",
   "execution_count": null,
   "metadata": {},
   "outputs": [],
   "source": [
    "import warnings\n",
    "warnings.filterwarnings(\"ignore\")\n",
    "\n",
    "# constants\n",
    "true_arclength_colors = ['#FF8C00', '#444444']\n",
    "predicted_arclength_colors = ['#AA0000', '#0000AA']\n",
    "sample_colors = ['#FF0000', '#0000FF']\n",
    "curve_colors = ['#FF0000', '#0000FF', '#FF9D11']\n",
    "limit = 2\n",
    "factor_extraction_limit = -1\n",
    "comparison_curves_count = 2\n",
    "sampling_ratio = 1\n",
    "anchors_ratio = None\n",
    "\n",
    "# randomness\n",
    "numpy.random.seed(20)\n",
    "\n",
    "# models\n",
    "curvature_model, arclength_model = common_utils.load_models(data_dir=settings.data_dir, group=group, distributed=True)\n",
    "\n",
    "# curves\n",
    "# curves_full = numpy.load(file=os.path.normpath(\"C:/deep-signature-data/level-curves/curves/test_raw/multimodality_35/profiles_0_7.npy\"), allow_pickle=True)\n",
    "curves_full = LevelCurvesGenerator.load_curves(dir_path=common_utils.get_test_curves_dir(data_dir=settings.data_dir))\n",
    "# curves_full = LevelCurvesGenerator.load_curves(dir_path=os.path.normpath(\"C:/GitHub/deep-signature/applets/level_curves/evaluation/\"))\n",
    "\n",
    "curves = []\n",
    "for curve in curves_full:\n",
    "    if 600 < curve.shape[0] < 800:\n",
    "        # curve = curve_processing.smooth_curve(\n",
    "        #     curve=curve,\n",
    "        #     iterations=1,\n",
    "        #     window_length=33,\n",
    "        #     poly_order=2)\n",
    "        curves.append(curve)\n",
    "\n",
    "# curves = curves_full\n",
    "\n",
    "print(len(curves))\n",
    "\n",
    "numpy.random.shuffle(curves)\n",
    "curves_limited = curves[:limit]\n",
    "factor_extraction_curves = curves[factor_extraction_limit:]\n",
    "\n",
    "# create color map\n",
    "color_map = plt.get_cmap('rainbow', limit)\n",
    "\n",
    "# generate curve records\n",
    "curve_records = evaluation_utils.generate_curve_records(\n",
    "    arclength_model=arclength_model,\n",
    "    curvature_model=curvature_model,\n",
    "    curves=curves_limited,\n",
    "    factor_extraction_curves=factor_extraction_curves,\n",
    "    transform_type=group,\n",
    "    comparison_curves_count=comparison_curves_count,\n",
    "    sampling_ratio=sampling_ratio,\n",
    "    anchors_ratio=anchors_ratio,\n",
    "    neighborhood_supporting_points_count=settings.curvature_default_supporting_points_count,\n",
    "    section_supporting_points_count=settings.arclength_default_supporting_points_count)"
   ]
  },
  {
   "cell_type": "markdown",
   "metadata": {},
   "source": [
    "  # EVALUATE SIGNATURES"
   ]
  },
  {
   "cell_type": "code",
   "execution_count": null,
   "metadata": {},
   "outputs": [],
   "source": [
    "plot_utils.plot_curve_comparisons(\n",
    "    curve_records=curve_records, \n",
    "    curve_colors=curve_colors,\n",
    "    sampling_ratio=sampling_ratio,\n",
    "    transformation_group_type=group,\n",
    "    plot_to_screen=True,\n",
    "    normalize_signature=False)"
   ]
  },
  {
   "cell_type": "code",
   "execution_count": null,
   "metadata": {},
   "outputs": [],
   "source": []
  }
 ],
 "metadata": {
  "interpreter": {
   "hash": "41a0ca9e4c4ec3d89a6c31f24496e44b5b8f56452df177c648ab52011368caf2"
  },
  "kernelspec": {
   "display_name": "Python 3.8.12 64-bit ('deep-signature': conda)",
   "name": "python3"
  },
  "language_info": {
   "codemirror_mode": {
    "name": "ipython",
    "version": 3
   },
   "file_extension": ".py",
   "mimetype": "text/x-python",
   "name": "python",
   "nbconvert_exporter": "python",
   "pygments_lexer": "ipython3",
   "version": "3.9.7"
  },
  "orig_nbformat": 2
 },
 "nbformat": 4,
 "nbformat_minor": 2
}
