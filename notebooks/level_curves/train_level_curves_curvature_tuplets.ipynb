{
 "cells": [
  {
   "cell_type": "markdown",
   "metadata": {
    "collapsed": false
   },
   "source": [
    "# ** IMPORT PACKAGES: **"
   ]
  },
  {
   "cell_type": "code",
   "execution_count": null,
   "metadata": {
    "collapsed": false,
    "pycharm": {
     "name": "#%%\n"
    }
   },
   "outputs": [],
   "source": [
    "# python peripherals\n",
    "import random\n",
    "import os\n",
    "import sys\n",
    "import warnings\n",
    "\n",
    "warnings.filterwarnings(\"ignore\")\n",
    "sys.path.insert(1, os.path.join(sys.path[0], '../..'))\n",
    "\n",
    "# numpy\n",
    "import numpy\n",
    "\n",
    "# matplotlib\n",
    "import matplotlib.pyplot as plt\n",
    "import matplotlib.ticker as ticker\n",
    "\n",
    "# pytorch\n",
    "import torch\n",
    "from torch.utils.data.sampler import SubsetRandomSampler\n",
    "from torch.utils.data.sampler import SequentialSampler\n",
    "from torch.utils.data import DataLoader\n",
    "\n",
    "# deep signature\n",
    "from deep_signature.utils import utils\n",
    "from deep_signature.data_generation.curve_generation import LevelCurvesGenerator\n",
    "from deep_signature.data_manipulation import curve_processing\n",
    "from deep_signature.nn.datasets import DeepSignatureTupletsDataset\n",
    "from deep_signature.nn.networks import DeepSignatureArcLengthNet\n",
    "from deep_signature.nn.networks import DeepSignatureCurvatureNet\n",
    "from deep_signature.nn.losses import ContrastiveLoss\n",
    "from deep_signature.nn.trainers import ModelTrainer\n",
    "from deep_signature.data_manipulation import curve_sampling\n",
    "from deep_signature.data_manipulation import curve_processing\n",
    "from deep_signature.linalg import euclidean_transform\n",
    "from deep_signature.linalg import affine_transform\n",
    "\n",
    "# common\n",
    "from common import settings\n",
    "from common import utils as common_utils\n",
    "\n",
    "# notebooks\n",
    "from notebooks.utils import utils as notebook_utils\n",
    "\n",
    "# ipython\n",
    "from IPython.display import display, HTML"
   ]
  },
  {
   "cell_type": "markdown",
   "metadata": {
    "collapsed": false
   },
   "source": [
    "# ** GLOBAL SETTINGS: **"
   ]
  },
  {
   "cell_type": "code",
   "execution_count": null,
   "metadata": {
    "collapsed": false,
    "pycharm": {
     "name": "#%%\n"
    }
   },
   "outputs": [],
   "source": [
    "curvature_type = 'affine'\n",
    "# plt.style.use(\"dark_background\")\n",
    "\n",
    "if curvature_type == 'euclidean':\n",
    "    level_curves_curvature_tuplets_dir_path = settings.level_curves_euclidean_curvature_tuplets_dir_path\n",
    "    level_curves_curvature_tuplets_results_dir_path = settings.level_curves_euclidean_curvature_tuplets_results_dir_path\n",
    "elif curvature_type == 'affine':\n",
    "    level_curves_curvature_tuplets_dir_path = settings.level_curves_affine_curvature_tuplets_dir_path\n",
    "    level_curves_curvature_tuplets_results_dir_path = settings.level_curves_affine_curvature_tuplets_results_dir_path"
   ]
  },
  {
   "cell_type": "markdown",
   "metadata": {
    "collapsed": false
   },
   "source": [
    "# ** SANITY CHECK - CURVES: **"
   ]
  },
  {
   "cell_type": "code",
   "execution_count": null,
   "metadata": {
    "collapsed": false,
    "pycharm": {
     "name": "#%%\n"
    }
   },
   "outputs": [],
   "source": [
    "curves = LevelCurvesGenerator.load_curves(dir_path=settings.level_curves_dir_path_train)\n",
    "limit = 70\n",
    "color_map = plt.get_cmap('rainbow', limit)\n",
    "for i, curve in enumerate(curves[:limit]): \n",
    "    fig, ax = plt.subplots(1, 1, figsize=(5,5))\n",
    "    for label in (ax.get_xticklabels() + ax.get_yticklabels()):\n",
    "        label.set_fontsize(30)\n",
    "    ax.axis('equal')\n",
    "    notebook_utils.plot_curve(ax=ax, curve=curve, linewidth=5)\n",
    "    plt.show()"
   ]
  },
  {
   "cell_type": "markdown",
   "metadata": {
    "collapsed": false
   },
   "source": [
    "# ** SANITY CHECK - DATASET PAIRS **"
   ]
  },
  {
   "cell_type": "code",
   "execution_count": null,
   "metadata": {
    "collapsed": false,
    "pycharm": {
     "name": "#%%\n"
    }
   },
   "outputs": [],
   "source": [
    "dataset = DeepSignatureTupletsDataset()\n",
    "dataset.load_dataset(dir_path=level_curves_curvature_tuplets_dir_path)\n",
    "dataset_size = len(dataset)\n",
    "indices = list(range(dataset_size))\n",
    "# numpy.random.shuffle(indices)\n",
    "sampler = SequentialSampler(indices)\n",
    "data_loader = DataLoader(dataset, batch_size=1, sampler=sampler)\n",
    "\n",
    "display(HTML('<h3>Random sample of tuplets:</h3>'))\n",
    "for tuplet_index, data in enumerate(data_loader, 0):\n",
    "    if tuplet_index == 5:\n",
    "        break\n",
    "\n",
    "    curve1 = torch.squeeze(torch.squeeze(data['input'])[0])\n",
    "    curve2 = torch.squeeze(torch.squeeze(data['input'])[1])\n",
    "    curve3 = torch.squeeze(torch.squeeze(data['input'])[2])\n",
    "    # curve4 = torch.squeeze(torch.squeeze(data['input'])[3])\n",
    "\n",
    "    display(HTML(f'<h3>Sample #{tuplet_index}:</h3>'))\n",
    "\n",
    "    curve1 = curve1.cpu().numpy()\n",
    "    curve2 = curve2.cpu().numpy()\n",
    "    curve3 = curve3.cpu().numpy()\n",
    "    # curve4 = curve4.cpu().numpy()\n",
    "\n",
    "    fig, ax = plt.subplots(1, 1, figsize=(15,15))\n",
    "    ax.axis('equal')\n",
    "\n",
    "    notebook_utils.plot_sample(\n",
    "        ax=ax, \n",
    "        sample=curve1, \n",
    "        point_size=50,\n",
    "        color='lightcoral',\n",
    "        zorder=50)\n",
    "\n",
    "    notebook_utils.plot_sample(\n",
    "        ax=ax, \n",
    "        sample=curve2, \n",
    "        point_size=50,\n",
    "        color='skyblue',\n",
    "        zorder=50)\n",
    "\n",
    "    notebook_utils.plot_sample(\n",
    "        ax=ax, \n",
    "        sample=curve3, \n",
    "        point_size=50,\n",
    "        color='springgreen',\n",
    "        zorder=50)\n",
    "\n",
    "    # plot_sample(\n",
    "    #     ax=ax, \n",
    "    #     sample=curve4, \n",
    "    #     point_size=50,\n",
    "    #     color='gold',\n",
    "    #     zorder=50)\n",
    "\n",
    "    notebook_utils.plot_sample(ax, numpy.array([[0,0]]), point_size=50, alpha=1, color='white', zorder=100)\n",
    "\n",
    "    for label in (ax.get_xticklabels() + ax.get_yticklabels()):\n",
    "        label.set_fontsize(10)\n",
    "    \n",
    "    plt.show()"
   ]
  },
  {
   "cell_type": "markdown",
   "metadata": {
    "collapsed": false
   },
   "source": [
    "# ** TRAIN/VALIDATION LOSS **"
   ]
  },
  {
   "cell_type": "code",
   "execution_count": null,
   "metadata": {
    "collapsed": false,
    "pycharm": {
     "name": "#%%\n"
    }
   },
   "outputs": [],
   "source": [
    "# results_file_path = os.path.normpath(os.path.join(results_base_dir_path, 'results.npy'))\n",
    "# all_subdirs = all_subdirs_of(level_curves_curvature_tuplets_results_dir_path)\n",
    "# latest_subdir = os.path.normpath(max(all_subdirs, key=os.path.getmtime))\n",
    "# print(level_curves_curvature_tuplets_results_dir_path)\n",
    "latest_subdir = common_utils.get_latest_subdirectory(level_curves_curvature_tuplets_results_dir_path)\n",
    "# print(latest_subdir)\n",
    "results = numpy.load(f\"{latest_subdir}/results.npy\", allow_pickle=True).item()\n",
    "\n",
    "epochs = results['epochs']\n",
    "batch_size = results['batch_size']\n",
    "train_loss_array = results['train_loss_array']\n",
    "validation_loss_array = results['validation_loss_array']\n",
    "epochs_list = numpy.array(range(len(train_loss_array)))\n",
    "\n",
    "fig, ax = plt.subplots(1, 1, figsize=(30,10))\n",
    "ax.xaxis.set_major_locator(ticker.MaxNLocator(integer=True))\n",
    "\n",
    "for label in (ax.get_xticklabels() + ax.get_yticklabels()):\n",
    "    label.set_fontsize(20)\n",
    "\n",
    "ax.plot(epochs_list, train_loss_array, label='Train Loss', linewidth=4.0)\n",
    "ax.plot(epochs_list, validation_loss_array, label='Validation Loss', linewidth=4.0)\n",
    "plt.legend(fontsize=20, title_fontsize=20)\n",
    "\n",
    "# print(train_loss_array)\n",
    "# print(validation_loss_array)\n",
    "plt.show()"
   ]
  },
  {
   "cell_type": "markdown",
   "metadata": {
    "collapsed": false
   },
   "source": [
    "# ** TEST MODEL **"
   ]
  },
  {
   "cell_type": "code",
   "execution_count": null,
   "metadata": {
    "collapsed": false,
    "pycharm": {
     "name": "#%%\n"
    },
    "tags": []
   },
   "outputs": [],
   "source": [
    "sample_points = 13\n",
    "supporting_point_count = 6\n",
    "max_offset = 6\n",
    "limit = 20\n",
    "numpy.random.seed(60)\n",
    "\n",
    "torch.set_default_dtype(torch.float64)\n",
    "device = torch.device('cuda')\n",
    "model = DeepSignatureCurvatureNet(sample_points=sample_points).cuda()\n",
    "model.load_state_dict(torch.load(results['model_file_path'], map_location=device))\n",
    "model.eval()\n",
    "\n",
    "curves = LevelCurvesGenerator.load_curves(dir_path=settings.level_curves_dir_path_train)\n",
    "numpy.random.shuffle(curves)\n",
    "curves = curves[:limit]\n",
    "color_map = plt.get_cmap('rainbow', 2*limit)\n",
    "\n",
    "for curve_index, curve in enumerate(curves):\n",
    "    fig, ax = plt.subplots(3, 1, figsize=(80,100))\n",
    "    ax[0].axis('equal')\n",
    "    for label in (ax[0].get_xticklabels() + ax[0].get_yticklabels()):\n",
    "        label.set_fontsize(30)\n",
    "\n",
    "    for label in (ax[1].get_xticklabels() + ax[1].get_yticklabels()):\n",
    "        label.set_fontsize(30)\n",
    "\n",
    "    for label in (ax[2].get_xticklabels() + ax[2].get_yticklabels()):\n",
    "        label.set_fontsize(30)\n",
    "\n",
    "    # color-map indices\n",
    "    color1_index = curve_index\n",
    "    color2_index = 2*limit - curve_index - 1\n",
    "\n",
    "    # print(numpy.mean(curve, axis=0))\n",
    "\n",
    "    # transform curve\n",
    "    if curvature_type == 'euclidean':\n",
    "        transform = euclidean_transform.random_euclidean_transform_2d()\n",
    "    elif curvature_type == 'affine':\n",
    "        transform = affine_transform.random_equiaffine_transform_2d()\n",
    "\n",
    "    transformed_curve = curve_processing.transform_curve(curve=curve, transform=transform)\n",
    "\n",
    "    # plot curves\n",
    "    notebook_utils.plot_curve(ax=ax[0], curve=curve_processing.translate_curve(curve=curve, offset=-numpy.mean(curve, axis=0)), color=color_map(color1_index), linewidth=5)\n",
    "    notebook_utils.plot_curve(ax=ax[0], curve=curve_processing.translate_curve(curve=transformed_curve, offset=-numpy.mean(transformed_curve, axis=0)), color=color_map(color2_index), linewidth=5)\n",
    "\n",
    "    # plot predicted curvature\n",
    "    predicted_curvature1 = numpy.zeros(curve.shape[0])\n",
    "    predicted_curvature2 = numpy.zeros(curve.shape[0])\n",
    "    center_index = 1\n",
    "    for i in range(curve.shape[0]):\n",
    "        sample1 = curve_sampling.sample_curve_point_neighbourhood(\n",
    "            curve=curve,\n",
    "            center_point_index=i,\n",
    "            supporting_point_count=supporting_point_count,\n",
    "            max_offset=max_offset)\n",
    "\n",
    "        sample2 = curve_sampling.sample_curve_point_neighbourhood(\n",
    "            curve=transformed_curve,\n",
    "            center_point_index=i,\n",
    "            supporting_point_count=supporting_point_count,\n",
    "            max_offset=max_offset)\n",
    "\n",
    "        # orig_sample = sample.copy()\n",
    "\n",
    "        sample1 = curve_processing.normalize_curve(curve=sample1)\n",
    "        sample2 = curve_processing.normalize_curve(curve=sample2)\n",
    "        # line1 = numpy.array([[1,1],[1.1,1.1],[1.2,1.2],[1.3,1.3],[1.4,1.4],[1.5,1.5],[1.6,1.6],[1.7,1.7],[1.8,1.8]]) * 1e-40\n",
    "        # line1 = curve_processing.normalize_curve(curve=line1)\n",
    "        # batch_data_line1 = torch.unsqueeze(torch.unsqueeze(torch.from_numpy(line1).double(), dim=0), dim=0).cuda()\n",
    "        # with torch.no_grad():\n",
    "        #     zero_curvature = float(torch.squeeze(model(batch_data_line1), dim=0).cpu().detach().numpy())\n",
    "\n",
    "        batch_data1 = torch.unsqueeze(torch.unsqueeze(torch.from_numpy(sample1).double(), dim=0), dim=0).cuda()\n",
    "        with torch.no_grad():\n",
    "            predicted_curvature1[i] = torch.squeeze(model(batch_data1), dim=0).cpu().detach().numpy()\n",
    "\n",
    "        batch_data2 = torch.unsqueeze(torch.unsqueeze(torch.from_numpy(sample2).double(), dim=0), dim=0).cuda()\n",
    "        with torch.no_grad():\n",
    "            predicted_curvature2[i] = torch.squeeze(model(batch_data2), dim=0).cpu().detach().numpy()\n",
    "\n",
    "            # kappa = torch.squeeze(model(batch_data), dim=0).cpu().detach().numpy()\n",
    "            # adj_kappa = kappa + zero_curvature\n",
    "            # if curve_processing.is_ccw(curve=orig_sample):\n",
    "            #     predicted_curvature[i] = -adj_kappa\n",
    "            # else:\n",
    "            #     predicted_curvature[i] = adj_kappa\n",
    "\n",
    "    notebook_utils.plot_curvature(ax=ax[1], curvature=predicted_curvature1, color=color_map(color1_index), linewidth=5)\n",
    "    notebook_utils.plot_curvature(ax=ax[1], curvature=predicted_curvature2, color=color_map(color2_index), linewidth=5)\n",
    "\n",
    "    # plot ground-truth curvature\n",
    "    if curvature_type == 'euclidean':\n",
    "        gt_curvature1 = curve_processing.calculate_euclidean_curvature(curve=curve)\n",
    "        gt_curvature2 = curve_processing.calculate_euclidean_curvature(curve=transformed_curve)\n",
    "    elif curvature_type == 'affine':\n",
    "        gt_curvature1 = curve_processing.calculate_affine_curvature(curve=curve)\n",
    "        gt_curvature2 = curve_processing.calculate_affine_curvature(curve=transformed_curve)\n",
    "    \n",
    "    # gt_curvature = curve_processing.calculate_curvature(curve=curve)\n",
    "    notebook_utils.plot_curvature(ax=ax[2], curvature=gt_curvature1, color='blue', linewidth=5)\n",
    "    notebook_utils.plot_curvature(ax=ax[2], curvature=gt_curvature2, color='blue', linewidth=5, alpha=0.5)\n",
    "\n",
    "    plt.show()"
   ]
  },
  {
   "cell_type": "code",
   "execution_count": null,
   "metadata": {
    "collapsed": true
   },
   "outputs": [],
   "source": []
  }
 ],
 "metadata": {
  "interpreter": {
   "hash": "41a0ca9e4c4ec3d89a6c31f24496e44b5b8f56452df177c648ab52011368caf2"
  },
  "kernelspec": {
   "display_name": "Python 3.8.10 64-bit ('deep-signature': conda)",
   "name": "python3"
  },
  "language_info": {
   "codemirror_mode": {
    "name": "ipython",
    "version": 3
   },
   "file_extension": ".py",
   "mimetype": "text/x-python",
   "name": "python",
   "nbconvert_exporter": "python",
   "pygments_lexer": "ipython3",
   "version": "3.8.10"
  }
 },
 "nbformat": 4,
 "nbformat_minor": 0
}
