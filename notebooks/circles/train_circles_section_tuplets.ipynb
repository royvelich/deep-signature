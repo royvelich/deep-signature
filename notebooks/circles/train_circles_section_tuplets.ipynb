{
 "cells": [
  {
   "source": [
    "# ** IMPORT PACKAGES: **"
   ],
   "cell_type": "markdown",
   "metadata": {
    "pycharm": {
     "name": "#%% md\n"
    }
   }
  },
  {
   "cell_type": "code",
   "execution_count": null,
   "outputs": [],
   "source": [
    "# python peripherals\n",
    "import os\n",
    "import random\n",
    "sys.path.insert(1, os.path.join(sys.path[0], '../..'))\n",
    "\n",
    "# scipy\n",
    "import scipy.io\n",
    "import scipy.stats as ss\n",
    "\n",
    "# numpy\n",
    "import numpy\n",
    "\n",
    "# matplotlib\n",
    "import matplotlib.pyplot as plt\n",
    "import matplotlib.collections as mcoll\n",
    "import matplotlib.ticker as ticker\n",
    "\n",
    "# pytorch\n",
    "import torch\n",
    "from torch.utils.data.sampler import SubsetRandomSampler\n",
    "from torch.utils.data.sampler import SequentialSampler\n",
    "from torch.utils.data import DataLoader\n",
    "\n",
    "# ipython\n",
    "from IPython.display import display, HTML\n",
    "\n",
    "# deep signature\n",
    "from deep_signature.utils import utils\n",
    "from deep_signature.data_generation.curve_generation import CirclesGenerator\n",
    "from deep_signature.data_manipulation import curve_processing\n",
    "from deep_signature.nn.datasets import DeepSignatureTupletsDataset\n",
    "from deep_signature.nn.networks import DeepSignatureNet\n",
    "from deep_signature.nn.losses import ContrastiveLoss\n",
    "from deep_signature.nn.trainers import ModelTrainer\n",
    "from deep_signature.data_manipulation import curve_sampling\n",
    "from deep_signature.data_manipulation import curve_processing\n",
    "\n",
    "# common\n",
    "from common import settings\n"
   ],
   "metadata": {
    "collapsed": false,
    "pycharm": {
     "name": "#%%\n"
    }
   }
  },
  {
   "source": [
    "# ** HELPER FUNCTIONS: **"
   ],
   "cell_type": "markdown",
   "metadata": {}
  },
  {
   "cell_type": "code",
   "execution_count": null,
   "metadata": {},
   "outputs": [],
   "source": [
    "def chunker(seq, size):\n",
    "    return (seq[pos:pos + size] for pos in range(0, len(seq), size))\n",
    "\n",
    "# https://stackoverflow.com/questions/36074455/python-matplotlib-with-a-line-color-gradient-and-colorbar\n",
    "def colorline(ax, x, y, z=None, cmap='copper', norm=plt.Normalize(0.0, 1.0), linewidth=3, alpha=1.0):\n",
    "    \"\"\"\n",
    "    http://nbviewer.ipython.org/github/dpsanders/matplotlib-examples/blob/master/colorline.ipynb\n",
    "    http://matplotlib.org/examples/pylab_examples/multicolored_line.html\n",
    "    Plot a colored line with coordinates x and y\n",
    "    Optionally specify colors in the array z\n",
    "    Optionally specify a colormap, a norm function and a line width\n",
    "    \"\"\"\n",
    "\n",
    "    # Default colors equally spaced on [0,1]:\n",
    "    if z is None:\n",
    "        z = numpy.linspace(0.0, 1.0, len(x))\n",
    "\n",
    "    # Special case if a single number:\n",
    "    # to check for numerical input -- this is a hack\n",
    "    if not hasattr(z, \"__iter__\"):\n",
    "        z = numpy.array([z])\n",
    "\n",
    "    z = numpy.asarray(z)\n",
    "\n",
    "    segments = make_segments(x, y)\n",
    "    lc = mcoll.LineCollection(segments, array=z, cmap=cmap, norm=norm,\n",
    "                              linewidth=linewidth, alpha=alpha)\n",
    "\n",
    "    # ax = plt.gca()\n",
    "    ax.add_collection(lc)\n",
    "\n",
    "    return lc\n",
    "\n",
    "def make_segments(x, y):\n",
    "    \"\"\"\n",
    "    Create list of line segments from x and y coordinates, in the correct format\n",
    "    for LineCollection: an array of the form numlines x (points per line) x 2 (x\n",
    "    and y) array\n",
    "    \"\"\"\n",
    "\n",
    "    points = numpy.array([x, y]).T.reshape(-1, 1, 2)\n",
    "    segments = numpy.concatenate([points[:-1], points[1:]], axis=1)\n",
    "    return segments\n",
    "\n",
    "def plot_dist(ax, dist):\n",
    "    x = numpy.array(range(dist.shape[0]))\n",
    "    y = dist\n",
    "    ax.set_xlim(x.min(), x.max())\n",
    "    ax.set_ylim(y.min(), y.max())\n",
    "    colorline(ax=ax, x=x, y=y, cmap='hsv')\n",
    "\n",
    "def plot_curve_sample(ax, curve, curve_sample, indices, zorder, point_size=10, alpha=1, cmap='hsv'):\n",
    "    x = curve_sample[:, 0]\n",
    "    y = curve_sample[:, 1]\n",
    "    c = numpy.linspace(0.0, 1.0, curve.shape[0])\n",
    "\n",
    "    ax.scatter(\n",
    "        x=x,\n",
    "        y=y,\n",
    "        c=c[indices],\n",
    "        s=point_size,\n",
    "        cmap=cmap,\n",
    "        alpha=alpha,\n",
    "        norm=plt.Normalize(0.0, 1.0),\n",
    "        zorder=zorder)\n",
    "\n",
    "def plot_curve_section_center_point(ax, x, y, zorder, radius=1, color='white'):\n",
    "    circle = plt.Circle((x, y), radius=radius, color=color, zorder=zorder)\n",
    "    ax.add_artist(circle)\n",
    "\n",
    "def plot_curve(ax, curve, linewidth=2, color='red', alpha=1):\n",
    "    x = curve[:, 0]\n",
    "    y = curve[:, 1]\n",
    "    ax.plot(x, y, linewidth=linewidth, color=color, alpha=alpha)\n",
    "\n",
    "def plot_curvature(ax, curvature, color='red', linewidth=2):\n",
    "    x = range(curvature.shape[0])\n",
    "    y = curvature\n",
    "    ax.plot(x, y, color=color, linewidth=linewidth)\n",
    "\n",
    "def plot_sample(ax, sample, color, zorder, point_size=10, alpha=1):\n",
    "    x = sample[:, 0]\n",
    "    y = sample[:, 1]\n",
    "\n",
    "    ax.scatter(\n",
    "        x=x,\n",
    "        y=y,\n",
    "        s=point_size,\n",
    "        color=color,\n",
    "        alpha=alpha,\n",
    "        zorder=zorder)\n",
    "\n",
    "def all_subdirs_of(b='.'):\n",
    "  result = []\n",
    "  for d in os.listdir(b):\n",
    "    bd = os.path.join(b, d)\n",
    "    if os.path.isdir(bd): result.append(bd)\n",
    "  return result"
   ]
  },
  {
   "source": [
    "# ** GLOBAL SETTINGS: **"
   ],
   "cell_type": "markdown",
   "metadata": {}
  },
  {
   "cell_type": "code",
   "execution_count": null,
   "metadata": {},
   "outputs": [],
   "source": [
    "plt.style.use(\"dark_background\")"
   ]
  },
  {
   "source": [
    "# ** SANITY CHECK - CURVES: **"
   ],
   "cell_type": "markdown",
   "metadata": {}
  },
  {
   "cell_type": "code",
   "execution_count": null,
   "metadata": {},
   "outputs": [],
   "source": [
    "curves = CirclesGenerator.load_curves(dir_path=settings.circles_dir_path_train)\n",
    "\n",
    "fig, ax = plt.subplots(1, 1, figsize=(80,40))\n",
    "for label in (ax.get_xticklabels() + ax.get_yticklabels()):\n",
    "    label.set_fontsize(30)\n",
    "ax.axis('equal')\n",
    "\n",
    "limit = 200\n",
    "color_map = plt.get_cmap('rainbow', limit)\n",
    "\n",
    "for i, curve in enumerate(curves[:limit]): \n",
    "    plot_curve(ax=ax, curve=curve, linewidth=5, color=color_map(i))\n",
    "\n",
    "plt.show()"
   ]
  },
  {
   "source": [
    "# ** SANITY CHECK - DATASET TUPLETS **"
   ],
   "cell_type": "markdown",
   "metadata": {}
  },
  {
   "cell_type": "code",
   "execution_count": null,
   "metadata": {},
   "outputs": [],
   "source": [
    "dataset = DeepSignatureTupletsDataset()\n",
    "dataset.load_dataset(dir_path=settings.circles_section_tuplets_dir_path)\n",
    "dataset_size = len(dataset)\n",
    "indices = list(range(dataset_size))\n",
    "# numpy.random.shuffle(indices)\n",
    "sampler = SequentialSampler(indices)\n",
    "data_loader = DataLoader(dataset, batch_size=1, sampler=sampler)\n",
    "\n",
    "display(HTML('<h3>Random sample of tuplets:</h3>'))\n",
    "for tuplet_index, data in enumerate(data_loader, 0):\n",
    "    if tuplet_index == 20:\n",
    "        break\n",
    "\n",
    "    curve1 = torch.squeeze(torch.squeeze(data['input'])[0])\n",
    "    curve2 = torch.squeeze(torch.squeeze(data['input'])[1])\n",
    "    curve3 = torch.squeeze(torch.squeeze(data['input'])[2])\n",
    "    curve4 = torch.squeeze(torch.squeeze(data['input'])[3])\n",
    "\n",
    "    display(HTML(f'<h3>Sample #{tuplet_index}:</h3>'))\n",
    "\n",
    "    curve1 = curve1.cpu().numpy()\n",
    "    curve2 = curve2.cpu().numpy()\n",
    "    curve3 = curve3.cpu().numpy()\n",
    "    curve4 = curve4.cpu().numpy()\n",
    "\n",
    "    fig, ax = plt.subplots(1, 1, figsize=(15,15))\n",
    "    ax.axis('equal')\n",
    "\n",
    "    plot_sample(\n",
    "        ax=ax, \n",
    "        sample=curve1, \n",
    "        point_size=50,\n",
    "        color='lightcoral',\n",
    "        zorder=50)\n",
    "\n",
    "    plot_sample(\n",
    "        ax=ax, \n",
    "        sample=curve2, \n",
    "        point_size=50,\n",
    "        color='skyblue',\n",
    "        zorder=50)\n",
    "\n",
    "    plot_sample(\n",
    "        ax=ax, \n",
    "        sample=curve3, \n",
    "        point_size=50,\n",
    "        color='springgreen',\n",
    "        zorder=50)\n",
    "\n",
    "    plot_sample(\n",
    "        ax=ax, \n",
    "        sample=curve4, \n",
    "        point_size=50,\n",
    "        color='gold',\n",
    "        zorder=50)\n",
    "\n",
    "    plot_sample(ax, numpy.array([[0,0]]), point_size=50, alpha=1, color='white', zorder=100)\n",
    "\n",
    "    for label in (ax.get_xticklabels() + ax.get_yticklabels()):\n",
    "        label.set_fontsize(10)\n",
    "    \n",
    "    plt.show()"
   ]
  },
  {
   "cell_type": "markdown",
   "source": [
    "# ** TRAINING **"
   ],
   "metadata": {
    "collapsed": false
   }
  },
  {
   "cell_type": "code",
   "execution_count": null,
   "outputs": [],
   "source": [
    "torch.set_default_dtype(torch.float64)\n",
    "dataset = SimpleDeepSignatureDataset()\n",
    "dataset.load_dataset(\n",
    "    negative_pairs_dir_path=negative_pairs_dir_path, \n",
    "    positive_pairs_dir_path=positive_pairs_dir_path)\n",
    "model = SimpleDeepSignatureNet(layers=20, sample_points=sample_points).cuda()\n",
    "optimizer = torch.optim.Adam(model.parameters(), lr=learning_rate)\n",
    "loss_fn = ContrastiveLoss(mu)\n",
    "model_trainer = ModelTrainer(model=model, loss_fn=loss_fn, optimizer=optimizer)\n",
    "\n",
    "print(model)\n",
    "\n",
    "def epoch_handler(epoch_index):\n",
    "    return\n",
    "\n",
    "results = model_trainer.fit(dataset=dataset, epochs=epochs, batch_size=batch_size, results_base_dir_path=results_base_dir_path, epoch_handler=epoch_handler)"
   ],
   "metadata": {
    "collapsed": false,
    "pycharm": {
     "name": "#%%\n"
    },
    "tags": [
     "outputPrepend"
    ]
   }
  },
  {
   "source": [
    "# ** TRAIN/VALIDATION LOSS **"
   ],
   "cell_type": "markdown",
   "metadata": {
    "collapsed": true
   }
  },
  {
   "cell_type": "code",
   "execution_count": null,
   "metadata": {
    "tags": []
   },
   "outputs": [],
   "source": [
    "# results_file_path = os.path.normpath(os.path.join(results_base_dir_path, 'results.npy'))\n",
    "all_subdirs = all_subdirs_of(settings.circles_section_tuplets_results_dir_path)\n",
    "latest_subdir = os.path.normpath(max(all_subdirs, key=os.path.getmtime))\n",
    "results = numpy.load(f\"{latest_subdir}/results.npy\", allow_pickle=True).item()\n",
    "\n",
    "epochs = results['epochs']\n",
    "batch_size = results['batch_size']\n",
    "train_loss_array = results['train_loss_array']\n",
    "validation_loss_array = results['validation_loss_array']\n",
    "epochs_list = numpy.array(range(len(train_loss_array)))\n",
    "\n",
    "fig, ax = plt.subplots(1, 1, figsize=(10,10))\n",
    "ax.xaxis.set_major_locator(ticker.MaxNLocator(integer=True))\n",
    "\n",
    "for label in (ax.get_xticklabels() + ax.get_yticklabels()):\n",
    "    label.set_fontsize(20)\n",
    "\n",
    "ax.plot(epochs_list, train_loss_array, label='Train Loss', linewidth=7.0)\n",
    "ax.plot(epochs_list, validation_loss_array, label='Validation Loss', linewidth=7.0)\n",
    "plt.legend(fontsize=20, title_fontsize=20)\n",
    "\n",
    "# print(train_loss_array)\n",
    "# print(validation_loss_array)\n",
    "plt.show()"
   ]
  },
  {
   "source": [
    "# ** TEST MODEL **"
   ],
   "cell_type": "markdown",
   "metadata": {}
  },
  {
   "cell_type": "code",
   "execution_count": null,
   "metadata": {
    "tags": []
   },
   "outputs": [],
   "source": [
    "sample_points = 13\n",
    "supporting_point_count = 6\n",
    "max_offset = 30\n",
    "limit = 4\n",
    "\n",
    "torch.set_default_dtype(torch.float64)\n",
    "device = torch.device('cuda')\n",
    "model = DeepSignatureNet(sample_points=sample_points).cuda()\n",
    "model.load_state_dict(torch.load(results['model_file_path'], map_location=device))\n",
    "model.eval()\n",
    "\n",
    "curves = CirclesGenerator.load_curves(dir_path=settings.circles_dir_path_train)\n",
    "numpy.random.seed(60)\n",
    "numpy.random.shuffle(curves)\n",
    "curves = curves[:limit]\n",
    "\n",
    "color_map = plt.get_cmap('rainbow', limit)\n",
    "fig, ax = plt.subplots(2, 1, figsize=(80,100))\n",
    "ax[0].axis('equal')\n",
    "for label in (ax[0].get_xticklabels() + ax[0].get_yticklabels()):\n",
    "    label.set_fontsize(30)\n",
    "\n",
    "for label in (ax[1].get_xticklabels() + ax[1].get_yticklabels()):\n",
    "    label.set_fontsize(30)\n",
    "\n",
    "low = 0.1\n",
    "high = 0.105\n",
    "delta = numpy.random.uniform(low=low, high=high, size=[4000, 2])\n",
    "for curve_index, curve in enumerate(curves): \n",
    "    plot_curve(ax=ax[0], curve=curve, color=color_map(curve_index), linewidth=5)\n",
    "    predicted_curvature = numpy.zeros(curve.shape[0])\n",
    "    center_index = 1\n",
    "    for i in range(curve.shape[0]):\n",
    "\n",
    "\n",
    "        sample = curve_sampling.sample_curve(\n",
    "            curve=curve,\n",
    "            center_point_index=i,\n",
    "            supporting_point_count=supporting_point_count,\n",
    "            max_offset=max_offset)\n",
    "\n",
    "        sample = curve_processing.normalize_curve(curve=sample)\n",
    "\n",
    "        # current_delta = delta[i, :] * curve.shape[0]\n",
    "        # indices = numpy.array([i - int(current_delta[0]), i, i + int(current_delta[1])])\n",
    "        # indices = numpy.mod(indices, curve.shape[0])\n",
    "        # sample = curve[indices]\n",
    "        # center_point = sample[center_index]\n",
    "        # sample = sample - center_point\n",
    "\n",
    "        # if curve_processing.is_ccw(curve_sample=sample) is False:\n",
    "        #     sample = numpy.flip(sample, axis=0)\n",
    "\n",
    "        # radians = curve_processing.calculate_tangent_angle(curve_sample=sample)\n",
    "        # sample = curve_processing.rotate_curve(curve=sample, radians=radians)\n",
    "\n",
    "        batch_data = torch.unsqueeze(torch.unsqueeze(torch.from_numpy(sample).double(), dim=0), dim=0).cuda()\n",
    "\n",
    "        with torch.no_grad():\n",
    "            predicted_curvature[i] = torch.squeeze(model(batch_data), dim=0).cpu().detach().numpy()\n",
    "\n",
    "    plot_curvature(ax=ax[1], curvature=predicted_curvature, color=color_map(curve_index), linewidth=5)\n",
    "plt.show()"
   ]
  },
  {
   "cell_type": "code",
   "execution_count": null,
   "metadata": {},
   "outputs": [],
   "source": []
  }
 ],
 "metadata": {
  "kernelspec": {
   "display_name": "Python 3",
   "language": "python",
   "name": "python3"
  },
  "language_info": {
   "codemirror_mode": {
    "name": "ipython",
    "version": 2
   },
   "file_extension": ".py",
   "mimetype": "text/x-python",
   "name": "python",
   "nbconvert_exporter": "python",
   "pygments_lexer": "ipython2",
   "version": "3.8.5-final"
  }
 },
 "nbformat": 4,
 "nbformat_minor": 0
}