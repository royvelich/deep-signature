{
 "metadata": {
  "language_info": {
   "codemirror_mode": {
    "name": "ipython",
    "version": 3
   },
   "file_extension": ".py",
   "mimetype": "text/x-python",
   "name": "python",
   "nbconvert_exporter": "python",
   "pygments_lexer": "ipython3",
   "version": "3.8.5-final"
  },
  "orig_nbformat": 2,
  "kernelspec": {
   "name": "python3",
   "language": "python",
   "display_name": "Python 3"
  }
 },
 "nbformat": 4,
 "nbformat_minor": 2,
 "cells": [
  {
   "cell_type": "markdown",
   "metadata": {},
   "source": [
    "Import packages:"
   ]
  },
  {
   "cell_type": "code",
   "execution_count": null,
   "metadata": {
    "tags": []
   },
   "outputs": [],
   "source": [
    "import os\n",
    "import scipy.io\n",
    "import numpy\n",
    "import re\n",
    "import scipy.stats as ss\n",
    "import matplotlib.pyplot as plt\n",
    "import matplotlib.collections as mcoll\n",
    "import deep_signature.dist\n",
    "import deep_signature.data\n",
    "from IPython.display import IFrame, display, HTML"
   ]
  },
  {
   "cell_type": "markdown",
   "metadata": {},
   "source": [
    "Load curves:"
   ]
  },
  {
   "cell_type": "code",
   "execution_count": null,
   "metadata": {
    "tags": []
   },
   "outputs": [],
   "source": [
    "dataset_generator = deep_signature.data.DatasetGenerator()\n",
    "dataset_generator.load_raw_curves(dir_path='C:\\\\Users\\\\Roy\\\\OneDrive - Technion\\\\deep-signature-raw-data\\\\raw-data-new')\n",
    "\n",
    "rotation_factor = 10\n",
    "sampling_factor = 10\n",
    "sample_points = 500\n",
    "curves = dataset_generator.generate_curves(rotation_factor=rotation_factor, sampling_factor=sampling_factor, sample_points=sample_points)"
   ]
  },
  {
   "cell_type": "markdown",
   "metadata": {},
   "source": [
    "Plot a sample of augmented curves:"
   ]
  },
  {
   "cell_type": "code",
   "execution_count": null,
   "metadata": {},
   "outputs": [],
   "source": [
    "def chunker(seq, size):\n",
    "    return (seq[pos:pos + size] for pos in range(0, len(seq), size))\n",
    "\n",
    "# https://stackoverflow.com/questions/36074455/python-matplotlib-with-a-line-color-gradient-and-colorbar\n",
    "def colorline(ax, x, y, z=None, cmap='copper', norm=plt.Normalize(0.0, 1.0), linewidth=3, alpha=1.0):\n",
    "    \"\"\"\n",
    "    http://nbviewer.ipython.org/github/dpsanders/matplotlib-examples/blob/master/colorline.ipynb\n",
    "    http://matplotlib.org/examples/pylab_examples/multicolored_line.html\n",
    "    Plot a colored line with coordinates x and y\n",
    "    Optionally specify colors in the array z\n",
    "    Optionally specify a colormap, a norm function and a line width\n",
    "    \"\"\"\n",
    "\n",
    "    # Default colors equally spaced on [0,1]:\n",
    "    if z is None:\n",
    "        z = numpy.linspace(0.0, 1.0, len(x))\n",
    "\n",
    "    # Special case if a single number:\n",
    "    # to check for numerical input -- this is a hack\n",
    "    if not hasattr(z, \"__iter__\"):\n",
    "        z = numpy.array([z])\n",
    "\n",
    "    z = numpy.asarray(z)\n",
    "\n",
    "    segments = make_segments(x, y)\n",
    "    lc = mcoll.LineCollection(segments, array=z, cmap=cmap, norm=norm,\n",
    "                              linewidth=linewidth, alpha=alpha)\n",
    "\n",
    "    # ax = plt.gca()\n",
    "    ax.add_collection(lc)\n",
    "\n",
    "    return lc\n",
    "\n",
    "def make_segments(x, y):\n",
    "    \"\"\"\n",
    "    Create list of line segments from x and y coordinates, in the correct format\n",
    "    for LineCollection: an array of the form numlines x (points per line) x 2 (x\n",
    "    and y) array\n",
    "    \"\"\"\n",
    "\n",
    "    points = numpy.array([x, y]).T.reshape(-1, 1, 2)\n",
    "    segments = numpy.concatenate([points[:-1], points[1:]], axis=1)\n",
    "    return segments\n",
    "\n",
    "plt.style.use(\"dark_background\")\n",
    "\n",
    "for i, curve in enumerate(curves[:3]):\n",
    "    display(HTML(f'<h1>Curve #{i}</h1>'))\n",
    "\n",
    "    display(HTML(f'<h2>Raw Curve</h2>'))\n",
    "    fig, ax = plt.subplots(figsize=(8, 8))\n",
    "    ax.axis('equal')\n",
    "    ax.plot(curve.curve[:,0], curve.curve[:,1])\n",
    "    plt.show()\n",
    "\n",
    "    display(HTML(f'<h2>Curve Configurations</h2>'))\n",
    "\n",
    "    for curve_configuration_index, curve_configuration in enumerate(curve.curve_configurations[:2]):\n",
    "\n",
    "        display(HTML(f'<h3>Curve Configuration #{curve_configuration_index}</h3>'))\n",
    "\n",
    "        fig, ax = plt.subplots(figsize=(8, 8))\n",
    "        ax.axis('equal')\n",
    "        curve_conf_x = curve_configuration.curve[:,0]\n",
    "        curve_conf_y = curve_configuration.curve[:,1]\n",
    "        ax.plot(curve_conf_x, curve_conf_y)\n",
    "        plt.show()\n",
    "\n",
    "        curve_samples_per_row = 2\n",
    "        curve_samples_chunks = list(chunker(curve_configuration.curve_samples, curve_samples_per_row))\n",
    "        for curve_samples_chunk in curve_samples_chunks[:2]:  \n",
    "            fig, ax = plt.subplots(2, curve_samples_per_row, figsize=(80,40))\n",
    "            for i, curve_sample in enumerate(curve_samples_chunk):\n",
    "\n",
    "                dist_bins = len(curve_sample.dist)\n",
    "\n",
    "                ax[0, i].axis('equal')\n",
    "\n",
    "                x = curve_sample.sampled_curve[:,0]\n",
    "                y = curve_sample.sampled_curve[:,1]\n",
    "                c = numpy.linspace(0.0, 1.0, dist_bins)\n",
    "\n",
    "\n",
    "                # lc = colorline(ax[0, i], curve_conf_x, curve_conf_y, cmap='hsv')\n",
    "\n",
    "                ax[0, i].scatter(\n",
    "                    x=x,\n",
    "                    y=y,\n",
    "                    c=c[curve_sample.sorted_indices],\n",
    "                    s=10,\n",
    "                    cmap='hsv')\n",
    "\n",
    "                \n",
    "                x = numpy.array(range(dist_bins))\n",
    "                y = curve_sample.dist\n",
    "                lc = colorline(ax[1, i], x, y, cmap='hsv')\n",
    "\n",
    "                ax[1, i].set_xlim(x.min(), x.max())\n",
    "                ax[1, i].set_ylim(y.min(), y.max())\n",
    "\n",
    "                # Set the tick labels font\n",
    "                for label in (ax[1, i].get_xticklabels() + ax[1, i].get_yticklabels()):\n",
    "                    label.set_fontsize(30)\n",
    "\n",
    "                # Set the tick labels font\n",
    "                for label in (ax[0, i].get_xticklabels() + ax[0, i].get_yticklabels()):\n",
    "                    label.set_fontsize(30)\n",
    "\n",
    "            plt.show()"
   ]
  },
  {
   "cell_type": "code",
   "execution_count": null,
   "outputs": [],
   "source": [],
   "metadata": {
    "collapsed": false,
    "pycharm": {
     "name": "#%%\n"
    }
   }
  },
  {
   "cell_type": "code",
   "execution_count": null,
   "metadata": {},
   "outputs": [],
   "source": []
  }
 ]
}