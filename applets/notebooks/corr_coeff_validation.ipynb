{
 "cells": [
  {
   "cell_type": "code",
   "execution_count": 1,
   "metadata": {
    "collapsed": true
   },
   "outputs": [
    {
     "name": "stderr",
     "output_type": "stream",
     "text": [
      "C:\\Users\\Roy\\miniconda3\\envs\\deep-signature\\lib\\site-packages\\tqdm\\auto.py:22: TqdmWarning: IProgress not found. Please update jupyter and ipywidgets. See https://ipywidgets.readthedocs.io/en/stable/user_install.html\n",
      "  from .autonotebook import tqdm as notebook_tqdm\n"
     ]
    }
   ],
   "source": [
    "# python peripherals\n",
    "import sys\n",
    "from pathlib import Path\n",
    "from typing import Callable, List\n",
    "sys.path.append('../../.')\n",
    "\n",
    "# numpy\n",
    "import numpy\n",
    "\n",
    "# torch\n",
    "import torch\n",
    "\n",
    "# matplotlib\n",
    "import matplotlib\n",
    "import matplotlib.pyplot\n",
    "import matplotlib.axes\n",
    "\n",
    "# deep-signature\n",
    "from deep_signature.core.base import SeedableObject\n",
    "from deep_signature.manifolds.planar_curves.implementation import PlanarCurvesManager, PlanarCurve\n",
    "from deep_signature.manifolds.planar_curves.groups import EuclideanGroup, SimilarityGroup, EquiaffineGroup, AffineGroup\n",
    "from deep_signature.core import discrete_distributions\n",
    "from deep_signature.training import datasets\n",
    "from deep_signature.training.networks import DeepSignaturesNet\n",
    "from deep_signature.training.activations import Sine\n",
    "from deep_signature.manifolds.planar_curves.evaluation import PlanarCurvesApproximatedSignatureComparator, PlanarCurvesShapeMatchingEvaluator\n",
    "from deep_signature.manifolds.planar_curves.groups import EquiaffineGroup\n",
    "\n",
    "# pandas\n",
    "import pandas\n",
    "\n",
    "# numba\n",
    "import numba\n",
    "\n",
    "SeedableObject.set_seed(seed=42)"
   ]
  },
  {
   "cell_type": "code",
   "execution_count": null,
   "outputs": [],
   "source": [
    "# planar_curves_manager_smooth = PlanarCurvesManager(curves_file_paths=[Path(\"C:/deep-signature-data-new/curves/train/2022-12-31-15-12-51/curves.npy\")])\n",
    "planar_curves_manager_smooth = PlanarCurvesManager(curves_file_paths=[Path(\"C:/deep-signature-data/curves/train/curves.npy\")])"
   ],
   "metadata": {
    "collapsed": false,
    "pycharm": {
     "is_executing": true
    }
   }
  },
  {
   "cell_type": "code",
   "execution_count": 3,
   "outputs": [],
   "source": [
    "# planar_curve = planar_curves_manager_smooth.get_random_planar_curve()\n",
    "#\n",
    "# fig, ax = matplotlib.pyplot.subplots(nrows=1, ncols=1, figsize=(5, 5))\n",
    "# planar_curve.plot_scattered_curve(ax=ax, cmap=None, color='red')\n",
    "#\n",
    "# fig, axes = matplotlib.pyplot.subplots(nrows=3, ncols=1, figsize=(20, 10))\n",
    "# planar_curve.plot_euclidean_signature(ax=axes, force_limits=True)\n",
    "# matplotlib.pyplot.show()"
   ],
   "metadata": {
    "collapsed": false
   }
  },
  {
   "cell_type": "code",
   "execution_count": 8,
   "outputs": [],
   "source": [
    "signatures = []\n",
    "points_count = []\n",
    "curves_count = planar_curves_manager_smooth.planar_curves_count\n",
    "for i in range(curves_count):\n",
    "    curve = planar_curves_manager_smooth.planar_curves[i]\n",
    "    signatures.append(curve.approximate_euclidean_signature())\n",
    "    points_count.append(curve.points_count)"
   ],
   "metadata": {
    "collapsed": false
   }
  },
  {
   "cell_type": "code",
   "execution_count": 18,
   "outputs": [
    {
     "name": "stdout",
     "output_type": "stream",
     "text": [
      "0.7015034095971011\n",
      "0.5792430530203232\n",
      "0.4695659766688518\n",
      "0.39196448714575743\n",
      "0.181101181049931\n",
      "0.09372122129405304\n",
      "0.022948769081406965\n"
     ]
    }
   ],
   "source": [
    "samples_count = [10, 100, 1000, 10000, 100000, 1000000, 10000000]\n",
    "\n",
    "corrs = []\n",
    "times = 5\n",
    "for k in samples_count:\n",
    "    current_corrs = numpy.zeros(shape=times)\n",
    "    for j in range(times):\n",
    "        samples = numpy.zeros(shape=[k, 2])\n",
    "        for i in range(k):\n",
    "            curve_index = numpy.random.randint(curves_count)\n",
    "            point_index = numpy.random.randint(points_count[curve_index])\n",
    "            signature = signatures[curve_index]\n",
    "            samples[i] = signature[point_index]\n",
    "        current_corrs[j] = numpy.abs(numpy.corrcoef([samples[:, 0], samples[:, 1]])[0, 1])\n",
    "\n",
    "    corrs.append(numpy.mean(current_corrs))\n",
    "    print(numpy.mean(current_corrs))\n",
    "\n",
    "\n",
    "data = {\n",
    "    'samples_count': samples_count,\n",
    "    'corr': corrs,\n",
    "}\n",
    "\n",
    "df = pandas.DataFrame(data=data)\n",
    "df.to_csv(\"C:/deep-signature-data-new/notebooks_output/pearson.csv\")"
   ],
   "metadata": {
    "collapsed": false
   }
  },
  {
   "cell_type": "code",
   "execution_count": null,
   "outputs": [],
   "source": [],
   "metadata": {
    "collapsed": false
   }
  }
 ],
 "metadata": {
  "kernelspec": {
   "display_name": "Python 3",
   "language": "python",
   "name": "python3"
  },
  "language_info": {
   "codemirror_mode": {
    "name": "ipython",
    "version": 2
   },
   "file_extension": ".py",
   "mimetype": "text/x-python",
   "name": "python",
   "nbconvert_exporter": "python",
   "pygments_lexer": "ipython2",
   "version": "2.7.6"
  }
 },
 "nbformat": 4,
 "nbformat_minor": 0
}
