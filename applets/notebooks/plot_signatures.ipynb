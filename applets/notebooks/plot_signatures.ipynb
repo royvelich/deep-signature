{
 "cells": [
  {
   "cell_type": "code",
   "execution_count": 1,
   "metadata": {
    "collapsed": true
   },
   "outputs": [
    {
     "name": "stderr",
     "output_type": "stream",
     "text": [
      "C:\\Users\\Roy\\miniconda3\\envs\\deep-signature\\lib\\site-packages\\tqdm\\auto.py:22: TqdmWarning: IProgress not found. Please update jupyter and ipywidgets. See https://ipywidgets.readthedocs.io/en/stable/user_install.html\n",
      "  from .autonotebook import tqdm as notebook_tqdm\n"
     ]
    }
   ],
   "source": [
    "# python peripherals\n",
    "import sys\n",
    "from pathlib import Path\n",
    "from typing import Callable\n",
    "sys.path.append('../../.')\n",
    "\n",
    "# torch\n",
    "import torch\n",
    "\n",
    "# matplotlib\n",
    "import matplotlib\n",
    "import matplotlib.pyplot\n",
    "import matplotlib.axes\n",
    "\n",
    "# deep-signature\n",
    "from deep_signature.core.base import SeedableObject\n",
    "from deep_signature.manifolds.planar_curves.implementation import PlanarCurvesManager, PlanarCurve\n",
    "from deep_signature.manifolds.planar_curves.groups import EuclideanGroup, SimilarityGroup, EquiaffineGroup, AffineGroup\n",
    "from deep_signature.core import discrete_distributions\n",
    "from deep_signature.training import datasets\n",
    "from deep_signature.training.networks import DeepSignaturesNet\n",
    "from deep_signature.training.activations import Sine\n",
    "from deep_signature.manifolds.planar_curves.evaluation import PlanarCurvesApproximatedSignatureComparator, PlanarCurvesShapeMatchingEvaluator\n",
    "\n",
    "# SeedableObject.set_seed(seed=30)"
   ]
  },
  {
   "cell_type": "code",
   "execution_count": 2,
   "outputs": [],
   "source": [
    "# planar_curves_manager = PlanarCurvesManager(curves_file_path=Path(\"C:/deep-signature-data-new/curves/train/2022-12-31-15-12-51/curves.npy\"))\n",
    "# print(f'{planar_curves_manager.planar_curves_count} curves loaded')"
   ],
   "metadata": {
    "collapsed": false
   }
  },
  {
   "cell_type": "code",
   "execution_count": 3,
   "outputs": [],
   "source": [
    "supporting_points_count = 9\n",
    "sample_points = 2 * supporting_points_count + 1"
   ],
   "metadata": {
    "collapsed": false
   }
  },
  {
   "cell_type": "code",
   "execution_count": 8,
   "outputs": [
    {
     "data": {
      "text/plain": "DataParallel(\n  (module): DeepSignaturesNet(\n    (_regressor): Sequential(\n      (0): Linear(in_features=38, out_features=64, bias=True)\n      (1): BatchNorm1d(64, eps=1e-05, momentum=0.1, affine=True, track_running_stats=True)\n      (2): Sine()\n      (3): Linear(in_features=64, out_features=64, bias=True)\n      (4): BatchNorm1d(64, eps=1e-05, momentum=0.1, affine=True, track_running_stats=True)\n      (5): Sine()\n      (6): Linear(in_features=64, out_features=32, bias=True)\n      (7): BatchNorm1d(32, eps=1e-05, momentum=0.1, affine=True, track_running_stats=True)\n      (8): Sine()\n      (9): Linear(in_features=32, out_features=32, bias=True)\n      (10): BatchNorm1d(32, eps=1e-05, momentum=0.1, affine=True, track_running_stats=True)\n      (11): Sine()\n      (12): Linear(in_features=32, out_features=16, bias=True)\n      (13): BatchNorm1d(16, eps=1e-05, momentum=0.1, affine=True, track_running_stats=True)\n      (14): Sine()\n      (15): Linear(in_features=16, out_features=16, bias=True)\n      (16): BatchNorm1d(16, eps=1e-05, momentum=0.1, affine=True, track_running_stats=True)\n      (17): Sine()\n      (18): Linear(in_features=16, out_features=8, bias=True)\n      (19): BatchNorm1d(8, eps=1e-05, momentum=0.1, affine=True, track_running_stats=True)\n      (20): Sine()\n      (21): Linear(in_features=8, out_features=8, bias=True)\n      (22): BatchNorm1d(8, eps=1e-05, momentum=0.1, affine=True, track_running_stats=True)\n      (23): Sine()\n      (24): Linear(in_features=8, out_features=4, bias=True)\n      (25): BatchNorm1d(4, eps=1e-05, momentum=0.1, affine=True, track_running_stats=True)\n      (26): Sine()\n      (27): Linear(in_features=4, out_features=4, bias=True)\n      (28): BatchNorm1d(4, eps=1e-05, momentum=0.1, affine=True, track_running_stats=True)\n      (29): Sine()\n      (30): Linear(in_features=4, out_features=2, bias=True)\n    )\n  )\n)"
     },
     "execution_count": 8,
     "metadata": {},
     "output_type": "execute_result"
    }
   ],
   "source": [
    "create_activation_fn: Callable[[int], torch.nn.Module] = lambda out_features_size: Sine()\n",
    "create_batch_norm_fn: Callable[[int], torch.nn.Module] = lambda out_features_size: torch.nn.BatchNorm1d(num_features=out_features_size)\n",
    "model_file_path = \"C:/deep-signature-data-new/training/2023-01-02-17-11-16/models/model_150.pt\"\n",
    "device = torch.device('cpu')\n",
    "model = DeepSignaturesNet(sample_points=sample_points, in_features_size=64, out_features_size=2, hidden_layer_repetitions=2, create_activation_fn=create_activation_fn, create_batch_norm_fn=create_batch_norm_fn, dropout_p=None)\n",
    "model = torch.nn.DataParallel(model)\n",
    "model.load_state_dict(torch.load(model_file_path))\n",
    "model.eval()"
   ],
   "metadata": {
    "collapsed": false
   }
  },
  {
   "cell_type": "code",
   "execution_count": 5,
   "outputs": [],
   "source": [
    "# for i in range(500, 503):\n",
    "#     curve = planar_curves_manager.planar_curves[i]\n",
    "#     signature_curve = PlanarCurve(curve.approximate_curve_signature(model=model, supporting_points_count=supporting_points_count, device=device))\n",
    "#     fig1, ax = matplotlib.pyplot.subplots(nrows=1, ncols=1, figsize=(5, 5))\n",
    "#     curve.plot_lined_curve(ax=ax)\n",
    "#     fig2, axes = matplotlib.pyplot.subplots(nrows=3, ncols=1, figsize=(40, 20))\n",
    "#     signature_curve.plot_signature(model=model, supporting_points_count=supporting_points_count, device=device, ax=axes, line_style='-')\n",
    "#     matplotlib.pyplot.show()\n",
    "#     matplotlib.pyplot.close(fig1)\n",
    "#     matplotlib.pyplot.close(fig2)"
   ],
   "metadata": {
    "collapsed": false
   }
  },
  {
   "cell_type": "code",
   "execution_count": 7,
   "outputs": [
    {
     "name": "stderr",
     "output_type": "stream",
     "text": [
      "01-03 03:02 PlanarCurvesShapeMatchingEvaluator INFO     Running Pre Start\n",
      "01-03 03:02 PlanarCurvesShapeMatchingEvaluator INFO     Running Pre Start\n"
     ]
    },
    {
     "name": "stdout",
     "output_type": "stream",
     "text": [
      "Worker Started 4 / 5"
     ]
    },
    {
     "name": "stderr",
     "output_type": "stream",
     "text": [
      "01-03 03:02 PlanarCurvesShapeMatchingEvaluator INFO     Running Post Start\n",
      "01-03 03:02 PlanarCurvesShapeMatchingEvaluator INFO     Running Post Start\n"
     ]
    },
    {
     "name": "stdout",
     "output_type": "stream",
     "text": [
      "Worker Started 5 / 5\n",
      "Remaining Tasks 0   / 100"
     ]
    },
    {
     "name": "stderr",
     "output_type": "stream",
     "text": [
      "01-03 03:02 PlanarCurvesShapeMatchingEvaluator INFO     Draining Queue\n",
      "01-03 03:02 PlanarCurvesShapeMatchingEvaluator INFO     Draining Queue\n"
     ]
    },
    {
     "name": "stdout",
     "output_type": "stream",
     "text": [
      "Remaining Tasks 0   / 100\n"
     ]
    },
    {
     "name": "stderr",
     "output_type": "stream",
     "text": [
      "01-03 03:02 PlanarCurvesShapeMatchingEvaluator INFO     Running Pre-Join\n",
      "01-03 03:02 PlanarCurvesShapeMatchingEvaluator INFO     Running Pre-Join\n",
      "01-03 03:02 PlanarCurvesShapeMatchingEvaluator INFO     Joining processes\n",
      "01-03 03:02 PlanarCurvesShapeMatchingEvaluator INFO     Joining processes\n",
      "01-03 03:02 PlanarCurvesShapeMatchingEvaluator INFO     Running Post-Join\n",
      "01-03 03:02 PlanarCurvesShapeMatchingEvaluator INFO     Running Post-Join\n"
     ]
    },
    {
     "name": "stdout",
     "output_type": "stream",
     "text": [
      "  curves_file_name  sampling_ratio  multimodality       group  match\n",
      "0           shapes             0.8              5  equiaffine    0.1\n"
     ]
    }
   ],
   "source": [
    "comparator = PlanarCurvesApproximatedSignatureComparator(\n",
    "    model=model,\n",
    "    supporting_points_count=supporting_points_count,\n",
    "    device=device)\n",
    "\n",
    "shape_matching_evaluator = PlanarCurvesShapeMatchingEvaluator(\n",
    "    log_dir_path=Path(\"C:/deep-signature-data-new/notebooks_output\"),\n",
    "    num_workers=5,\n",
    "    curves_count_per_collection=10,\n",
    "    curve_collections_file_names=['shapes'],\n",
    "    benchmark_dir_path=Path('C:/deep-signature-data-new/curves/benchmark/2023-01-02-00-24-28'),\n",
    "    sampling_ratios=[0.8],\n",
    "    multimodalities=[5],\n",
    "    group_names=['equiaffine'],\n",
    "    planar_curves_signature_comparator=comparator)\n",
    "\n",
    "shape_matching_evaluator.start()\n",
    "shape_matching_evaluator.join()\n",
    "\n",
    "print(shape_matching_evaluator.shape_matching_df)"
   ],
   "metadata": {
    "collapsed": false
   }
  },
  {
   "cell_type": "code",
   "execution_count": 6,
   "outputs": [],
   "source": [],
   "metadata": {
    "collapsed": false
   }
  }
 ],
 "metadata": {
  "kernelspec": {
   "name": "pycharm-2f0a391f",
   "language": "python",
   "display_name": "PyCharm (deep-signature)"
  },
  "language_info": {
   "codemirror_mode": {
    "name": "ipython",
    "version": 2
   },
   "file_extension": ".py",
   "mimetype": "text/x-python",
   "name": "python",
   "nbconvert_exporter": "python",
   "pygments_lexer": "ipython2",
   "version": "2.7.6"
  }
 },
 "nbformat": 4,
 "nbformat_minor": 0
}
