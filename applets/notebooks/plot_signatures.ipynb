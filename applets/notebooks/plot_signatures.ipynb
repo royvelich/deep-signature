{
 "cells": [
  {
   "cell_type": "code",
   "execution_count": 1,
   "metadata": {
    "collapsed": true
   },
   "outputs": [
    {
     "name": "stderr",
     "output_type": "stream",
     "text": [
      "C:\\Users\\Roy\\miniconda3\\envs\\deep-signature\\lib\\site-packages\\tqdm\\auto.py:22: TqdmWarning: IProgress not found. Please update jupyter and ipywidgets. See https://ipywidgets.readthedocs.io/en/stable/user_install.html\n",
      "  from .autonotebook import tqdm as notebook_tqdm\n"
     ]
    }
   ],
   "source": [
    "# python peripherals\n",
    "import sys\n",
    "from pathlib import Path\n",
    "from typing import Callable, Optional\n",
    "sys.path.append('../../.')\n",
    "\n",
    "# numpy\n",
    "import numpy\n",
    "\n",
    "# torch\n",
    "import torch\n",
    "\n",
    "# matplotlib\n",
    "import matplotlib\n",
    "import matplotlib.pyplot\n",
    "import matplotlib.axes\n",
    "matplotlib.pyplot.rcParams['text.usetex'] = True\n",
    "\n",
    "# deep-signature\n",
    "from deep_signature.core.base import SeedableObject\n",
    "from deep_signature.manifolds.planar_curves.implementation import PlanarCurvesManager, PlanarCurve\n",
    "from deep_signature.manifolds.planar_curves.groups import EuclideanGroup, SimilarityGroup, EquiaffineGroup, AffineGroup\n",
    "from deep_signature.core import discrete_distributions\n",
    "from deep_signature.training import datasets\n",
    "from deep_signature.training.networks import DeepSignaturesNet\n",
    "from deep_signature.training.activations import Sine\n",
    "from deep_signature.manifolds.planar_curves.evaluation import PlanarCurvesApproximatedSignatureComparator, PlanarCurvesShapeMatchingEvaluator\n",
    "from deep_signature.manifolds.planar_curves.groups import EquiaffineGroup\n",
    "\n",
    "SeedableObject.set_seed(seed=42)"
   ]
  },
  {
   "cell_type": "code",
   "execution_count": null,
   "metadata": {},
   "outputs": [],
   "source": [
    "planar_curves_manager_smooth = PlanarCurvesManager(curves_file_paths=[Path(\"C:/deep-signature-data/curves/train/curves.npy\")])\n",
    "# circles = PlanarCurvesManager(curves_file_paths=[Path(\"C:/deep-signature-data-new/circles/train/2023-01-07-17-48-39/curves.npy\")])\n",
    "\n",
    "# print(f'{planar_curves_manager.planar_curves_count} curves loaded')"
   ]
  },
  {
   "cell_type": "code",
   "execution_count": 2,
   "outputs": [],
   "source": [
    "collection_name = 'profiles'\n",
    "group_name = 'equiaffine'\n",
    "benchmark_1_0 = PlanarCurvesManager(curves_file_paths=[Path(f\"C:/deep-signature-data-new/curves/benchmark/2023-01-07-10-12-19/{collection_name}/{group_name}/10/1_0/curves.npy\")])\n",
    "benchmark_0_9 = PlanarCurvesManager(curves_file_paths=[Path(f\"C:/deep-signature-data-new/curves/benchmark/2023-01-07-10-12-19/{collection_name}/{group_name}/10/0_9/curves.npy\")])\n",
    "benchmark_0_8 = PlanarCurvesManager(curves_file_paths=[Path(f\"C:/deep-signature-data-new/curves/benchmark/2023-01-07-10-12-19/{collection_name}/{group_name}/10/0_8/curves.npy\")])\n",
    "benchmark_0_7 = PlanarCurvesManager(curves_file_paths=[Path(f\"C:/deep-signature-data-new/curves/benchmark/2023-01-07-10-12-19/{collection_name}/{group_name}/10/0_7/curves.npy\")])\n",
    "benchmark_0_6 = PlanarCurvesManager(curves_file_paths=[Path(f\"C:/deep-signature-data-new/curves/benchmark/2023-01-07-10-12-19/{collection_name}/{group_name}/10/0_8/curves.npy\")])"
   ],
   "metadata": {
    "collapsed": false
   }
  },
  {
   "cell_type": "code",
   "execution_count": null,
   "outputs": [],
   "source": [
    "planar_curves_smooth = planar_curves_manager_smooth.planar_curves\n",
    "planar_curves_smooth = sorted(planar_curves_smooth, key=lambda x: x.points.shape[0])\n",
    "\n",
    "# figsize=(40, 40)\n",
    "# # figsize=(10, 10)\n",
    "# nrows = 10\n",
    "# ncols = 10\n",
    "# start = 96200\n",
    "# fig, ax = matplotlib.pyplot.subplots(nrows=nrows, ncols=ncols, figsize=figsize)\n",
    "# for i, curve in enumerate(planar_curves_smooth[start:start + (nrows * ncols)]):\n",
    "#     # print(f'CURVE INDEX: {i}. points_count: {curve.points_count}')\n",
    "#     curve.plot_scattered_curve(ax=ax[i // nrows, i % nrows], cmap=None, color='#FF0000', point_size=2, label_size=5)\n",
    "#     ax[i // nrows, i % nrows].set_title(f'Curve {start + i}')\n",
    "#\n",
    "# matplotlib.pyplot.show()\n",
    "# matplotlib.pyplot.close(fig)"
   ],
   "metadata": {
    "collapsed": false
   }
  },
  {
   "cell_type": "code",
   "execution_count": null,
   "outputs": [],
   "source": [
    "# circles_new = []\n",
    "# min_radius = 25\n",
    "# max_radius = 50\n",
    "# sampling_density = 3\n",
    "# for _ in range(20):\n",
    "#     radius = float(numpy.random.uniform(low=min_radius, high=max_radius, size=1))\n",
    "#     circumference = 2 * radius * numpy.pi\n",
    "#     points_count = int(numpy.round(sampling_density * circumference))\n",
    "#     radians_delta = 2 * numpy.pi / points_count\n",
    "#     pointer = numpy.array([radius, 0])\n",
    "#     circle = numpy.empty((points_count, 2))\n",
    "#     pointer_curve = PlanarCurve(points=pointer, closed=False)\n",
    "#     for i in range(points_count):\n",
    "#         circle[i] = pointer_curve.rotate_curve(radians=i * radians_delta).points\n",
    "#\n",
    "#     circles_new.append(PlanarCurve(points=circle, closed=True))"
   ],
   "metadata": {
    "collapsed": false
   }
  },
  {
   "cell_type": "code",
   "execution_count": 3,
   "metadata": {},
   "outputs": [],
   "source": [
    "supporting_points_count = 14\n",
    "sample_points = 2 * supporting_points_count + 1\n",
    "sampling_ratio = 1\n",
    "multimodality = 10"
   ]
  },
  {
   "cell_type": "code",
   "execution_count": 4,
   "outputs": [
    {
     "data": {
      "text/plain": "DataParallel(\n  (module): DeepSignaturesNet(\n    (_regressor): Sequential(\n      (0): Linear(in_features=58, out_features=128, bias=True)\n      (1): BatchNorm1d(128, eps=1e-05, momentum=0.1, affine=True, track_running_stats=True)\n      (2): Sine()\n      (3): Linear(in_features=128, out_features=128, bias=True)\n      (4): BatchNorm1d(128, eps=1e-05, momentum=0.1, affine=True, track_running_stats=True)\n      (5): Sine()\n      (6): Linear(in_features=128, out_features=128, bias=True)\n      (7): BatchNorm1d(128, eps=1e-05, momentum=0.1, affine=True, track_running_stats=True)\n      (8): Sine()\n      (9): Linear(in_features=128, out_features=64, bias=True)\n      (10): BatchNorm1d(64, eps=1e-05, momentum=0.1, affine=True, track_running_stats=True)\n      (11): Sine()\n      (12): Linear(in_features=64, out_features=64, bias=True)\n      (13): BatchNorm1d(64, eps=1e-05, momentum=0.1, affine=True, track_running_stats=True)\n      (14): Sine()\n      (15): Linear(in_features=64, out_features=64, bias=True)\n      (16): BatchNorm1d(64, eps=1e-05, momentum=0.1, affine=True, track_running_stats=True)\n      (17): Sine()\n      (18): Linear(in_features=64, out_features=32, bias=True)\n      (19): BatchNorm1d(32, eps=1e-05, momentum=0.1, affine=True, track_running_stats=True)\n      (20): Sine()\n      (21): Linear(in_features=32, out_features=32, bias=True)\n      (22): BatchNorm1d(32, eps=1e-05, momentum=0.1, affine=True, track_running_stats=True)\n      (23): Sine()\n      (24): Linear(in_features=32, out_features=32, bias=True)\n      (25): BatchNorm1d(32, eps=1e-05, momentum=0.1, affine=True, track_running_stats=True)\n      (26): Sine()\n      (27): Linear(in_features=32, out_features=16, bias=True)\n      (28): BatchNorm1d(16, eps=1e-05, momentum=0.1, affine=True, track_running_stats=True)\n      (29): Sine()\n      (30): Linear(in_features=16, out_features=16, bias=True)\n      (31): BatchNorm1d(16, eps=1e-05, momentum=0.1, affine=True, track_running_stats=True)\n      (32): Sine()\n      (33): Linear(in_features=16, out_features=16, bias=True)\n      (34): BatchNorm1d(16, eps=1e-05, momentum=0.1, affine=True, track_running_stats=True)\n      (35): Sine()\n      (36): Linear(in_features=16, out_features=8, bias=True)\n      (37): BatchNorm1d(8, eps=1e-05, momentum=0.1, affine=True, track_running_stats=True)\n      (38): Sine()\n      (39): Linear(in_features=8, out_features=8, bias=True)\n      (40): BatchNorm1d(8, eps=1e-05, momentum=0.1, affine=True, track_running_stats=True)\n      (41): Sine()\n      (42): Linear(in_features=8, out_features=8, bias=True)\n      (43): BatchNorm1d(8, eps=1e-05, momentum=0.1, affine=True, track_running_stats=True)\n      (44): Sine()\n      (45): Linear(in_features=8, out_features=4, bias=True)\n      (46): BatchNorm1d(4, eps=1e-05, momentum=0.1, affine=True, track_running_stats=True)\n      (47): Sine()\n      (48): Linear(in_features=4, out_features=4, bias=True)\n      (49): BatchNorm1d(4, eps=1e-05, momentum=0.1, affine=True, track_running_stats=True)\n      (50): Sine()\n      (51): Linear(in_features=4, out_features=4, bias=True)\n      (52): BatchNorm1d(4, eps=1e-05, momentum=0.1, affine=True, track_running_stats=True)\n      (53): Sine()\n      (54): Linear(in_features=4, out_features=2, bias=True)\n    )\n  )\n)"
     },
     "execution_count": 4,
     "metadata": {},
     "output_type": "execute_result"
    }
   ],
   "source": [
    "create_activation_fn: Callable[[int], torch.nn.Module] = lambda out_features_size: Sine()\n",
    "create_batch_norm_fn: Callable[[int], torch.nn.Module] = lambda out_features_size: torch.nn.BatchNorm1d(num_features=out_features_size)\n",
    "# model_file_path = \"C:/deep-signature-data-new/training/2023-01-03-13-40-21/models/model_375.pt\"\n",
    "# model_file_path = \"C:/deep-signature-data-new/training/2023-01-05-15-42-57/models/model_300.pt\"\n",
    "# model_file_path = \"C:/deep-signature-data-new/training/2023-01-06-19-05-56/models/model_725.pt\"\n",
    "# model_file_path = \"C:/deep-signature-data-new/training/2023-01-08-10-32-10/models/model_175.pt\"\n",
    "\n",
    "# best equiaffine\n",
    "# model_file_path = \"C:/deep-signature-data-new/training/2023-01-08-15-06-32/models/model_950.pt\"\n",
    "\n",
    "# model_file_path = \"C:/deep-signature-data-new/training/2023-01-10-05-20-03/models/model_950.pt\"\n",
    "model_file_path = \"C:/deep-signature-data-new/training/2023-01-12-08-13-54/models/model_2325.pt\"\n",
    "\n",
    "device = torch.device('cpu')\n",
    "model = DeepSignaturesNet(sample_points=sample_points, in_features_size=128, out_features_size=2, hidden_layer_repetitions=3, create_activation_fn=create_activation_fn, create_batch_norm_fn=create_batch_norm_fn, dropout_p=None)\n",
    "model = torch.nn.DataParallel(model)\n",
    "model.load_state_dict(torch.load(model_file_path))\n",
    "model.eval()\n",
    "model.cpu()"
   ],
   "metadata": {
    "collapsed": false
   }
  },
  {
   "cell_type": "code",
   "execution_count": null,
   "outputs": [],
   "source": [
    "point_size = 50\n",
    "label_size = 100\n",
    "axis_title_size = 120\n",
    "line_width = 3"
   ],
   "metadata": {
    "collapsed": false
   }
  },
  {
   "cell_type": "code",
   "execution_count": null,
   "outputs": [],
   "source": [
    "# fig = matplotlib.pyplot.figure(figsize=(10, 10))\n",
    "#\n",
    "# ax1 = fig.add_subplot(4,3,1)\n",
    "# ax2 = fig.add_subplot(4,3,2)\n",
    "# ax3 = fig.add_subplot(4,3,3)\n",
    "# ax4 = fig.add_subplot(4,3,(4,6))\n",
    "# ax5 = fig.add_subplot(4,3,(7,9))\n",
    "# ax6 = fig.add_subplot(4,3,(10,12))\n",
    "# # ax3 = fig.add_subplot(3,1,3)\n",
    "# # ax4 = fig.add_subplot(10,1,5)\n",
    "# # ax3= fig.add_subplot(3,3,4)\n",
    "# # ax4= fig.add_subplot(3,3,5)\n",
    "# # ax5= fig.add_subplot(3,3,7)\n",
    "# # ax6= fig.add_subplot(3,3,8)\n",
    "#\n",
    "# # ax7= fig.add_subplot(2,3,3)\n",
    "# # ax8= fig.add_subplot(2,3,6)\n",
    "#\n",
    "# matplotlib.pyplot.show()"
   ],
   "metadata": {
    "collapsed": false
   }
  },
  {
   "cell_type": "code",
   "execution_count": null,
   "metadata": {},
   "outputs": [],
   "source": [
    "# def handle_curve_plot(curve: PlanarCurve):\n",
    "#     discrete_distribution = discrete_distributions.MultimodalGaussianDiscreteDistribution(bins_count=curve.points_count, multimodality=10)\n",
    "#     curve = curve.sample_curve(sampling_ratio=sampling_ratio, discrete_distribution=discrete_distribution)\n",
    "#     # signature_curve = PlanarCurve(curve.approximate_curve_signature(model=model, supporting_points_count=supporting_points_count, device=device))\n",
    "#\n",
    "#     fig1, ax = matplotlib.pyplot.subplots(nrows=1, ncols=1, figsize=(15, 15))\n",
    "#     curve.plot_scattered_curve(ax=ax)\n",
    "#\n",
    "#     curve_neighborhoods = curve.extract_curve_neighborhoods(supporting_points_count=supporting_points_count)\n",
    "#     # for i in range(5):\n",
    "#     curve_neighborhoods[0].plot_scattered_curve(ax=ax, cmap='green')\n",
    "#     curve_neighborhoods[1].plot_scattered_curve(ax=ax, cmap='blue')\n",
    "#     curve_neighborhoods[2].plot_scattered_curve(ax=ax, cmap='magenta')\n",
    "#     curve_neighborhoods[3].plot_scattered_curve(ax=ax, cmap='orange')\n",
    "#     curve_neighborhoods[4].plot_scattered_curve(ax=ax, cmap='cyan')\n",
    "#\n",
    "#     matplotlib.pyplot.show()\n",
    "#\n",
    "#\n",
    "#     # fig2, axes = matplotlib.pyplot.subplots(nrows=3, ncols=1, figsize=(40, 20))\n",
    "#     # signature_curve.plot_signature(model=model, supporting_points_count=supporting_points_count, device=device, ax=axes, line_style='-')\n",
    "#     # matplotlib.pyplot.show()\n",
    "#     # matplotlib.pyplot.close(fig1)\n",
    "#     # matplotlib.pyplot.close(fig2)\n",
    "\n",
    "def handle_curve_plot(curve: PlanarCurve):\n",
    "    discrete_distribution = discrete_distributions.MultimodalGaussianDiscreteDistribution(bins_count=curve.points_count, multimodality=multimodality)\n",
    "    curve = curve.sample_curve(sampling_ratio=sampling_ratio, discrete_distribution=discrete_distribution)\n",
    "    signature_curve = PlanarCurve(curve.approximate_curve_signature(model=model, supporting_points_count=supporting_points_count, device=device))\n",
    "\n",
    "    fig1, ax = matplotlib.pyplot.subplots(nrows=1, ncols=1, figsize=(15, 15))\n",
    "    curve.plot_scattered_curve(ax=ax)\n",
    "\n",
    "    fig2, axes = matplotlib.pyplot.subplots(nrows=3, ncols=1, figsize=(40, 20))\n",
    "    signature_curve.plot_signature(model=model, supporting_points_count=supporting_points_count, device=device, ax=axes, line_style='-', force_limits=False)\n",
    "\n",
    "    matplotlib.pyplot.show()\n",
    "\n",
    "def handle_signature_comparison_plot(curve1: PlanarCurve, axiomatic: bool, file_name: str, curve2: Optional[PlanarCurve] = None, compare_only_signature_curve: bool = False):\n",
    "    discrete_distribution1 = discrete_distributions.MultimodalGaussianDiscreteDistribution(bins_count=curve1.points_count, multimodality=multimodality)\n",
    "    sampled_curve1 = curve1.sample_curve(sampling_ratio=sampling_ratio, discrete_distribution=discrete_distribution1)\n",
    "    figsize=(50, 50)\n",
    "    fig = matplotlib.pyplot.figure(figsize=figsize)\n",
    "    ax4 = fig.add_subplot(4,3,(4,6))\n",
    "    ax5 = fig.add_subplot(4,3,(7,9))\n",
    "    ax6 = fig.add_subplot(4,3,(10,12))\n",
    "    signature_axes = [ax4, ax5, ax6]\n",
    "    if curve2 is None:\n",
    "        ax1 = fig.add_subplot(4,3,(1,3))\n",
    "        # file_name = f'signature{index}.svg'\n",
    "        sampled_curve1.plot_scattered_curve(ax=ax1, cmap='hsv', point_size=point_size, label_size=label_size)\n",
    "        sampled_curve1.plot_signature(model=model, supporting_points_count=supporting_points_count, device=device, ax=signature_axes, multicolor=True, line_style='-', marker='', label_size=label_size, line_width=line_width, axis_title_size=axis_title_size, axiomatic=axiomatic)\n",
    "    else:\n",
    "        ax1 = fig.add_subplot(4,3,1)\n",
    "        ax2 = fig.add_subplot(4,3,2)\n",
    "        ax3 = fig.add_subplot(4,3,3)\n",
    "        # file_name = f'signature_comparison{index}.svg'\n",
    "        discrete_distribution2 = discrete_distributions.MultimodalGaussianDiscreteDistribution(bins_count=curve2.points_count, multimodality=multimodality)\n",
    "        sampled_curve2 = curve2.sample_curve(sampling_ratio=sampling_ratio, discrete_distribution=discrete_distribution2)\n",
    "        sampled_curve1.plot_scattered_curve(ax=ax1, color='#FF0000', cmap=None, point_size=point_size, label_size=label_size)\n",
    "        sampled_curve2.plot_scattered_curve(ax=ax2, color='#00FF00', cmap=None, point_size=point_size, label_size=label_size)\n",
    "        sampled_curve1.plot_scattered_curve(ax=ax3, color='#FF0000', cmap=None, point_size=point_size, label_size=label_size)\n",
    "        sampled_curve2.plot_scattered_curve(ax=ax3, color='#00FF00', cmap=None, point_size=point_size, label_size=label_size)\n",
    "        sampled_curve1.plot_signature_comparison(\n",
    "            comparison_curve=sampled_curve2,\n",
    "            model=model,\n",
    "            supporting_points_count=supporting_points_count,\n",
    "            device=device,\n",
    "            ax=signature_axes,\n",
    "            multicolor=False,\n",
    "            line_style='-',\n",
    "            marker='',\n",
    "            label_size=label_size,\n",
    "            line_width=line_width,\n",
    "            axis_title_size=axis_title_size,\n",
    "            axiomatic=axiomatic,\n",
    "            compare_only_signature_curve=compare_only_signature_curve)\n",
    "\n",
    "    fig.savefig(f\"C:/Users/Roy/OneDrive - Technion/Thesis/SSVM/qualitative/{file_name}\")\n",
    "    matplotlib.pyplot.show()\n",
    "    matplotlib.pyplot.close(fig)\n",
    "\n",
    "det = 2\n",
    "cond = 2\n",
    "group = AffineGroup(min_cond=cond, max_cond=cond, min_det=det, max_det=det, seed=43)\n",
    "\n",
    "# handle_signature_comparison_plot(curve1=planar_curves_smooth[70092], curve2=None, index=1)\n",
    "# handle_signature_comparison_plot(curve1=planar_curves_smooth[70021], curve2=None, index=2)\n",
    "\n",
    "# curve1 = planar_curves_smooth[96209]\n",
    "# curve2 = curve1.transform_curve(transform=group.generate_random_group_action(radians_v=1, radians_u=-1))\n",
    "# handle_signature_comparison_plot(curve1=curve1, curve2=curve2, index=1)\n",
    "\n",
    "# curve1 = planar_curves_smooth[96185]\n",
    "# curve2 = curve1.transform_curve(transform=group.generate_random_group_action(radians_v=1, radians_u=-1))\n",
    "# handle_signature_comparison_plot(curve1=curve1, curve2=curve2, index=2)\n",
    "\n",
    "# curve1 = planar_curves_smooth[70092]\n",
    "# curve2 = curve1.transform_curve(transform=group.generate_random_group_action(radians_v=0.5, radians_u=-0.5))\n",
    "# handle_signature_comparison_plot(curve1=curve1, curve2=curve2, index=1, axiomatic=True)\n",
    "# handle_signature_comparison_plot(curve1=curve1, curve2=curve2, index=1, axiomatic=False)\n",
    "\n",
    "\n",
    "# curve1 = planar_curves_smooth[95069]\n",
    "# curve2 = curve1.transform_curve(transform=group.generate_random_group_action(radians_v=0.5, radians_u=-0.5))\n",
    "# handle_signature_comparison_plot(curve1=curve1, curve2=curve2, file_name='affine_signature_comparison1', axiomatic=False)\n",
    "#\n",
    "# curve1 = planar_curves_smooth[96185]\n",
    "# curve2 = curve1.transform_curve(transform=group.generate_random_group_action(radians_v=0.5, radians_u=-0.5))\n",
    "# handle_signature_comparison_plot(curve1=curve1, curve2=curve2, file_name='affine_signature_comparison1', axiomatic=False)\n",
    "\n",
    "curve1 = benchmark_1_0.planar_curves[0]\n",
    "# handle_signature_comparison_plot(curve1=curve, file_name='benchmark_signature1', axiomatic=False)\n",
    "\n",
    "curve2 = benchmark_0_7.planar_curves[0]\n",
    "curve2 = curve2.transform_curve(transform=group.generate_random_group_action(radians_v=0.5, radians_u=-0.5))\n",
    "handle_signature_comparison_plot(curve1=curve1, curve2=curve2, file_name='benchmark_signature2', axiomatic=False, compare_only_signature_curve=True)\n",
    "\n",
    "curve3 = benchmark_1_0.planar_curves[2]\n",
    "handle_signature_comparison_plot(curve1=curve3, curve2=curve2, file_name='benchmark_signature2', axiomatic=False, compare_only_signature_curve=True)\n",
    "# handle_signature_comparison_plot(curve1=curve, file_name='benchmark_signature3', axiomatic=False)\n",
    "#\n",
    "curve4 = benchmark_1_0.planar_curves[8]\n",
    "handle_signature_comparison_plot(curve1=curve4, curve2=curve2, file_name='benchmark_signature2', axiomatic=False, compare_only_signature_curve=True)\n",
    "# handle_signature_comparison_plot(curve1=curve, file_name='benchmark_signature4', axiomatic=False)\n",
    "\n",
    "\n",
    "# group = EquiaffineGroup(min_cond=2, max_cond=2, seed=43)\n",
    "# group = AffineGroup(min_cond=2, max_cond=2, min_det=2, max_det=2, seed=43)\n",
    "# for i in range(0, 1):\n",
    "#     curve1 = benchmark_1_0.planar_curves[0]\n",
    "#     curve2 = benchmark_0_8.planar_curves[0]\n",
    "#     print(curve1.points.shape[0])\n",
    "#     print(curve2.points.shape[0])\n",
    "#     handle_signature_comparison_plot(curve1=curve1, curve2=curve2)"
   ]
  },
  {
   "cell_type": "code",
   "execution_count": 6,
   "outputs": [
    {
     "name": "stderr",
     "output_type": "stream",
     "text": [
      "01-14 17:45 PlanarCurvesShapeMatchingEvaluator INFO     Running Pre Start\n"
     ]
    },
    {
     "name": "stdout",
     "output_type": "stream",
     "text": [
      "Worker Started 18 / 19"
     ]
    },
    {
     "name": "stderr",
     "output_type": "stream",
     "text": [
      "01-14 17:52 PlanarCurvesShapeMatchingEvaluator INFO     Running Post Start\n"
     ]
    },
    {
     "name": "stdout",
     "output_type": "stream",
     "text": [
      "Worker Started 19 / 19\n",
      "Remaining Tasks 179163 / 183600"
     ]
    },
    {
     "ename": "KeyboardInterrupt",
     "evalue": "",
     "output_type": "error",
     "traceback": [
      "\u001B[1;31m---------------------------------------------------------------------------\u001B[0m",
      "\u001B[1;31mKeyboardInterrupt\u001B[0m                         Traceback (most recent call last)",
      "Cell \u001B[1;32mIn [6], line 19\u001B[0m\n\u001B[0;32m      6\u001B[0m collections \u001B[38;5;241m=\u001B[39m [\u001B[38;5;124m'\u001B[39m\u001B[38;5;124mbasketball\u001B[39m\u001B[38;5;124m'\u001B[39m, \u001B[38;5;124m'\u001B[39m\u001B[38;5;124mbats\u001B[39m\u001B[38;5;124m'\u001B[39m, \u001B[38;5;124m'\u001B[39m\u001B[38;5;124mbirds\u001B[39m\u001B[38;5;124m'\u001B[39m, \u001B[38;5;124m'\u001B[39m\u001B[38;5;124mbranches\u001B[39m\u001B[38;5;124m'\u001B[39m, \u001B[38;5;124m'\u001B[39m\u001B[38;5;124mbunnies\u001B[39m\u001B[38;5;124m'\u001B[39m, \u001B[38;5;124m'\u001B[39m\u001B[38;5;124mbutterflies\u001B[39m\u001B[38;5;124m'\u001B[39m, \u001B[38;5;124m'\u001B[39m\u001B[38;5;124mcacti\u001B[39m\u001B[38;5;124m'\u001B[39m, \u001B[38;5;124m'\u001B[39m\u001B[38;5;124mcats\u001B[39m\u001B[38;5;124m'\u001B[39m, \u001B[38;5;124m'\u001B[39m\u001B[38;5;124mchickens\u001B[39m\u001B[38;5;124m'\u001B[39m, \u001B[38;5;124m'\u001B[39m\u001B[38;5;124mclouds\u001B[39m\u001B[38;5;124m'\u001B[39m, \u001B[38;5;124m'\u001B[39m\u001B[38;5;124mdeers\u001B[39m\u001B[38;5;124m'\u001B[39m, \u001B[38;5;124m'\u001B[39m\u001B[38;5;124mdogs\u001B[39m\u001B[38;5;124m'\u001B[39m, \u001B[38;5;124m'\u001B[39m\u001B[38;5;124mfishes\u001B[39m\u001B[38;5;124m'\u001B[39m, \u001B[38;5;124m'\u001B[39m\u001B[38;5;124mflames\u001B[39m\u001B[38;5;124m'\u001B[39m, \u001B[38;5;124m'\u001B[39m\u001B[38;5;124mflies\u001B[39m\u001B[38;5;124m'\u001B[39m, \u001B[38;5;124m'\u001B[39m\u001B[38;5;124mfruits\u001B[39m\u001B[38;5;124m'\u001B[39m, \u001B[38;5;124m'\u001B[39m\u001B[38;5;124mglasses\u001B[39m\u001B[38;5;124m'\u001B[39m, \u001B[38;5;124m'\u001B[39m\u001B[38;5;124mhearts\u001B[39m\u001B[38;5;124m'\u001B[39m, \u001B[38;5;124m'\u001B[39m\u001B[38;5;124mhorses\u001B[39m\u001B[38;5;124m'\u001B[39m, \u001B[38;5;124m'\u001B[39m\u001B[38;5;124minsects\u001B[39m\u001B[38;5;124m'\u001B[39m, \u001B[38;5;124m'\u001B[39m\u001B[38;5;124mjogging\u001B[39m\u001B[38;5;124m'\u001B[39m, \u001B[38;5;124m'\u001B[39m\u001B[38;5;124mleaves\u001B[39m\u001B[38;5;124m'\u001B[39m, \u001B[38;5;124m'\u001B[39m\u001B[38;5;124mmonkeys\u001B[39m\u001B[38;5;124m'\u001B[39m, \u001B[38;5;124m'\u001B[39m\u001B[38;5;124mmustaches\u001B[39m\u001B[38;5;124m'\u001B[39m, \u001B[38;5;124m'\u001B[39m\u001B[38;5;124mpieces\u001B[39m\u001B[38;5;124m'\u001B[39m, \u001B[38;5;124m'\u001B[39m\u001B[38;5;124mprofiles\u001B[39m\u001B[38;5;124m'\u001B[39m, \u001B[38;5;124m'\u001B[39m\u001B[38;5;124mrats\u001B[39m\u001B[38;5;124m'\u001B[39m, \u001B[38;5;124m'\u001B[39m\u001B[38;5;124mshapes\u001B[39m\u001B[38;5;124m'\u001B[39m, \u001B[38;5;124m'\u001B[39m\u001B[38;5;124mshields\u001B[39m\u001B[38;5;124m'\u001B[39m, \u001B[38;5;124m'\u001B[39m\u001B[38;5;124msigns\u001B[39m\u001B[38;5;124m'\u001B[39m, \u001B[38;5;124m'\u001B[39m\u001B[38;5;124mspiders\u001B[39m\u001B[38;5;124m'\u001B[39m, \u001B[38;5;124m'\u001B[39m\u001B[38;5;124mtrees\u001B[39m\u001B[38;5;124m'\u001B[39m, \u001B[38;5;124m'\u001B[39m\u001B[38;5;124mwhales\u001B[39m\u001B[38;5;124m'\u001B[39m, \u001B[38;5;124m'\u001B[39m\u001B[38;5;124mwings\u001B[39m\u001B[38;5;124m'\u001B[39m]\n\u001B[0;32m      8\u001B[0m shape_matching_evaluator \u001B[38;5;241m=\u001B[39m PlanarCurvesShapeMatchingEvaluator(\n\u001B[0;32m      9\u001B[0m     log_dir_path\u001B[38;5;241m=\u001B[39mPath(\u001B[38;5;124m\"\u001B[39m\u001B[38;5;124mC:/deep-signature-data-new/notebooks_output\u001B[39m\u001B[38;5;124m\"\u001B[39m),\n\u001B[0;32m     10\u001B[0m     num_workers\u001B[38;5;241m=\u001B[39m\u001B[38;5;241m19\u001B[39m,\n\u001B[1;32m   (...)\u001B[0m\n\u001B[0;32m     16\u001B[0m     group_names\u001B[38;5;241m=\u001B[39m[group_name],\n\u001B[0;32m     17\u001B[0m     planar_curves_signature_comparator\u001B[38;5;241m=\u001B[39mcomparator)\n\u001B[1;32m---> 19\u001B[0m \u001B[43mshape_matching_evaluator\u001B[49m\u001B[38;5;241;43m.\u001B[39;49m\u001B[43mstart\u001B[49m\u001B[43m(\u001B[49m\u001B[43m)\u001B[49m\n\u001B[0;32m     20\u001B[0m shape_matching_evaluator\u001B[38;5;241m.\u001B[39mjoin()\n\u001B[0;32m     22\u001B[0m \u001B[38;5;28mprint\u001B[39m(shape_matching_evaluator\u001B[38;5;241m.\u001B[39mshape_matching_df)\n",
      "File \u001B[1;32mC:\\GitHub\\deep-signature\\applets\\notebooks\\../../.\\deep_signature\\core\\parallel_processing.py:56\u001B[0m, in \u001B[0;36mParallelProcessorBase.start\u001B[1;34m(self)\u001B[0m\n\u001B[0;32m     53\u001B[0m \u001B[38;5;28mprint\u001B[39m(\u001B[38;5;124m'\u001B[39m\u001B[38;5;124m'\u001B[39m)\n\u001B[0;32m     55\u001B[0m \u001B[38;5;28mself\u001B[39m\u001B[38;5;241m.\u001B[39m_logger\u001B[38;5;241m.\u001B[39minfo(msg\u001B[38;5;241m=\u001B[39m\u001B[38;5;124m'\u001B[39m\u001B[38;5;124mRunning Post Start\u001B[39m\u001B[38;5;124m'\u001B[39m)\n\u001B[1;32m---> 56\u001B[0m \u001B[38;5;28;43mself\u001B[39;49m\u001B[38;5;241;43m.\u001B[39;49m\u001B[43m_post_start\u001B[49m\u001B[43m(\u001B[49m\u001B[43m)\u001B[49m\n",
      "File \u001B[1;32mC:\\GitHub\\deep-signature\\applets\\notebooks\\../../.\\deep_signature\\manifolds\\planar_curves\\evaluation.py:199\u001B[0m, in \u001B[0;36mPlanarCurvesShapeMatchingEvaluator._post_start\u001B[1;34m(self)\u001B[0m\n\u001B[0;32m    198\u001B[0m \u001B[38;5;28;01mdef\u001B[39;00m \u001B[38;5;21m_post_start\u001B[39m(\u001B[38;5;28mself\u001B[39m):\n\u001B[1;32m--> 199\u001B[0m     \u001B[38;5;28;43msuper\u001B[39;49m\u001B[43m(\u001B[49m\u001B[43m)\u001B[49m\u001B[38;5;241;43m.\u001B[39;49m\u001B[43m_post_start\u001B[49m\u001B[43m(\u001B[49m\u001B[43m)\u001B[49m\n\u001B[0;32m    200\u001B[0m     df_list \u001B[38;5;241m=\u001B[39m []\n\u001B[0;32m    201\u001B[0m     \u001B[38;5;28;01mfor\u001B[39;00m completed_task \u001B[38;5;129;01min\u001B[39;00m \u001B[38;5;28mself\u001B[39m\u001B[38;5;241m.\u001B[39m_completed_tasks:\n",
      "File \u001B[1;32mC:\\GitHub\\deep-signature\\applets\\notebooks\\../../.\\deep_signature\\core\\parallel_processing.py:150\u001B[0m, in \u001B[0;36mTaskParallelProcessor._post_start\u001B[1;34m(self)\u001B[0m\n\u001B[0;32m    148\u001B[0m tasks_count_digits \u001B[38;5;241m=\u001B[39m \u001B[38;5;28mlen\u001B[39m(\u001B[38;5;28mstr\u001B[39m(\u001B[38;5;28mself\u001B[39m\u001B[38;5;241m.\u001B[39mtasks_count))\n\u001B[0;32m    149\u001B[0m \u001B[38;5;28;01mwhile\u001B[39;00m \u001B[38;5;28;01mTrue\u001B[39;00m:\n\u001B[1;32m--> 150\u001B[0m     remaining_tasks_count \u001B[38;5;241m=\u001B[39m \u001B[38;5;28;43mself\u001B[39;49m\u001B[38;5;241;43m.\u001B[39;49m\u001B[43m_tasks_queue\u001B[49m\u001B[38;5;241;43m.\u001B[39;49m\u001B[43mqsize\u001B[49m\u001B[43m(\u001B[49m\u001B[43m)\u001B[49m\n\u001B[0;32m    151\u001B[0m     \u001B[38;5;28;01mif\u001B[39;00m last_remaining_tasks_count \u001B[38;5;241m>\u001B[39m remaining_tasks_count:\n\u001B[0;32m    152\u001B[0m         \u001B[38;5;28mprint\u001B[39m(\u001B[38;5;124mf\u001B[39m\u001B[38;5;124m'\u001B[39m\u001B[38;5;130;01m\\r\u001B[39;00m\u001B[38;5;124mRemaining Tasks \u001B[39m\u001B[38;5;132;01m{\u001B[39;00mnumpy\u001B[38;5;241m.\u001B[39mmaximum(remaining_tasks_count \u001B[38;5;241m-\u001B[39m \u001B[38;5;28mself\u001B[39m\u001B[38;5;241m.\u001B[39m_num_workers, \u001B[38;5;241m0\u001B[39m)\u001B[38;5;132;01m:\u001B[39;00m\u001B[38;5;132;01m{\u001B[39;00m\u001B[38;5;124m\"\u001B[39m\u001B[38;5;124m \u001B[39m\u001B[38;5;124m\"\u001B[39m\u001B[38;5;132;01m}\u001B[39;00m\u001B[38;5;132;01m{\u001B[39;00m\u001B[38;5;124m\"\u001B[39m\u001B[38;5;124m<\u001B[39m\u001B[38;5;124m\"\u001B[39m\u001B[38;5;132;01m}\u001B[39;00m\u001B[38;5;132;01m{\u001B[39;00mtasks_count_digits\u001B[38;5;132;01m}\u001B[39;00m\u001B[38;5;132;01m}\u001B[39;00m\u001B[38;5;124m / \u001B[39m\u001B[38;5;132;01m{\u001B[39;00m\u001B[38;5;28mself\u001B[39m\u001B[38;5;241m.\u001B[39mtasks_count\u001B[38;5;132;01m:\u001B[39;00m\u001B[38;5;132;01m{\u001B[39;00m\u001B[38;5;124m\"\u001B[39m\u001B[38;5;124m \u001B[39m\u001B[38;5;124m\"\u001B[39m\u001B[38;5;132;01m}\u001B[39;00m\u001B[38;5;132;01m{\u001B[39;00m\u001B[38;5;124m\"\u001B[39m\u001B[38;5;124m>\u001B[39m\u001B[38;5;124m\"\u001B[39m\u001B[38;5;132;01m}\u001B[39;00m\u001B[38;5;132;01m{\u001B[39;00mtasks_count_digits\u001B[38;5;132;01m}\u001B[39;00m\u001B[38;5;132;01m}\u001B[39;00m\u001B[38;5;124m'\u001B[39m, end\u001B[38;5;241m=\u001B[39m\u001B[38;5;124m'\u001B[39m\u001B[38;5;124m'\u001B[39m)\n",
      "File \u001B[1;32m~\\miniconda3\\envs\\deep-signature\\lib\\multiprocessing\\queues.py:126\u001B[0m, in \u001B[0;36mQueue.qsize\u001B[1;34m(self)\u001B[0m\n\u001B[0;32m    124\u001B[0m \u001B[38;5;28;01mdef\u001B[39;00m \u001B[38;5;21mqsize\u001B[39m(\u001B[38;5;28mself\u001B[39m):\n\u001B[0;32m    125\u001B[0m     \u001B[38;5;66;03m# Raises NotImplementedError on Mac OSX because of broken sem_getvalue()\u001B[39;00m\n\u001B[1;32m--> 126\u001B[0m     \u001B[38;5;28;01mreturn\u001B[39;00m \u001B[38;5;28;43mself\u001B[39;49m\u001B[38;5;241;43m.\u001B[39;49m\u001B[43m_maxsize\u001B[49m\u001B[43m \u001B[49m\u001B[38;5;241;43m-\u001B[39;49m\u001B[43m \u001B[49m\u001B[38;5;28;43mself\u001B[39;49m\u001B[38;5;241;43m.\u001B[39;49m\u001B[43m_sem\u001B[49m\u001B[38;5;241;43m.\u001B[39;49m\u001B[43m_semlock\u001B[49m\u001B[38;5;241;43m.\u001B[39;49m\u001B[43m_get_value\u001B[49m\u001B[43m(\u001B[49m\u001B[43m)\u001B[49m\n",
      "\u001B[1;31mKeyboardInterrupt\u001B[0m: "
     ]
    }
   ],
   "source": [
    "comparator = PlanarCurvesApproximatedSignatureComparator(\n",
    "    model=model,\n",
    "    supporting_points_count=supporting_points_count,\n",
    "    device=device)\n",
    "\n",
    "collections = ['basketball', 'bats', 'birds', 'branches', 'bunnies', 'butterflies', 'cacti', 'cats', 'chickens', 'clouds', 'deers', 'dogs', 'fishes', 'flames', 'flies', 'fruits', 'glasses', 'hearts', 'horses', 'insects', 'jogging', 'leaves', 'monkeys', 'mustaches', 'pieces', 'profiles', 'rats', 'shapes', 'shields', 'signs', 'spiders', 'trees', 'whales', 'wings']\n",
    "\n",
    "shape_matching_evaluator = PlanarCurvesShapeMatchingEvaluator(\n",
    "    log_dir_path=Path(\"C:/deep-signature-data-new/notebooks_output\"),\n",
    "    num_workers=19,\n",
    "    curves_count_per_collection=30,\n",
    "    curve_collections_file_names=collections,\n",
    "    benchmark_dir_path=Path('C:/deep-signature-data-new/curves/benchmark/2023-01-07-10-12-19'),\n",
    "    sampling_ratios=[0.5, 0.6, 0.7, 0.8, 0.9, 1.0],\n",
    "    multimodalities=[10],\n",
    "    group_names=[group_name],\n",
    "    planar_curves_signature_comparator=comparator)\n",
    "\n",
    "shape_matching_evaluator.start()\n",
    "shape_matching_evaluator.join()\n",
    "\n",
    "print(shape_matching_evaluator.shape_matching_df)\n",
    "shape_matching_evaluator.shape_matching_df.to_csv(\"C:/deep-signature-data-new/notebooks_output/output.csv\")"
   ],
   "metadata": {
    "collapsed": false
   }
  },
  {
   "cell_type": "code",
   "execution_count": null,
   "outputs": [],
   "source": [],
   "metadata": {
    "collapsed": false
   }
  }
 ],
 "metadata": {
  "kernelspec": {
   "display_name": "PyCharm (deep-signature)",
   "language": "python",
   "name": "pycharm-2f0a391f"
  },
  "language_info": {
   "codemirror_mode": {
    "name": "ipython",
    "version": 3
   },
   "file_extension": ".py",
   "mimetype": "text/x-python",
   "name": "python",
   "nbconvert_exporter": "python",
   "pygments_lexer": "ipython3",
   "version": "3.9.15"
  }
 },
 "nbformat": 4,
 "nbformat_minor": 1
}
