{
 "cells": [
  {
   "cell_type": "code",
   "execution_count": null,
   "outputs": [],
   "source": [
    "# python peripherals\n",
    "import sys\n",
    "from pathlib import Path\n",
    "sys.path.append('../../.')\n",
    "\n",
    "# matplotlib\n",
    "import matplotlib\n",
    "import matplotlib.pyplot\n",
    "import matplotlib.axes\n",
    "\n",
    "# deep-signature\n",
    "from deep_signature.core.base import SeedableObject\n",
    "from deep_signature.manifolds.planar_curves.implementation import PlanarCurvesManager, PlanarCurve\n",
    "from deep_signature.manifolds.planar_curves.groups import EuclideanGroup, SimilarityGroup, EquiaffineGroup, AffineGroup\n",
    "from deep_signature.core import discrete_distributions\n",
    "from deep_signature.training import datasets\n",
    "\n",
    "SeedableObject.set_seed(seed=30)"
   ],
   "metadata": {
    "collapsed": false
   }
  },
  {
   "cell_type": "code",
   "execution_count": null,
   "outputs": [],
   "source": [
    "planar_curves_manager = PlanarCurvesManager(curves_file_path=Path(\"C:/deep-signature-data-new/curves/train/2022-12-20-01-29-48/curves.npy\"))\n",
    "print(f'{planar_curves_manager.planar_curves_count} curves loaded')"
   ],
   "metadata": {
    "collapsed": false
   }
  },
  {
   "cell_type": "code",
   "execution_count": null,
   "outputs": [],
   "source": [
    "sampling_ratio = 0.3\n",
    "for planar_curve in planar_curves_manager.planar_curves[:5]:\n",
    "    fig, axes = matplotlib.pyplot.subplots(nrows=1, ncols=2, figsize=(40, 10))\n",
    "    discrete_distribution = discrete_distributions.MultimodalGaussianDiscreteDistribution(bins_count=planar_curve.points_count, multimodality=10)\n",
    "    # discrete_distribution = discrete_distributions.UniformDiscreteDistribution(bins_count=planar_curve.points_count)\n",
    "    discrete_distribution.plot_dist(ax=axes[0])\n",
    "    sampled_planar_curve = planar_curve.sample_curve(sampling_ratio=sampling_ratio, discrete_distribution=discrete_distribution)\n",
    "    sampled_planar_curve.plot_scattered_curve(ax=axes[1], cmap='hsv')\n",
    "    matplotlib.pyplot.show()"
   ],
   "metadata": {
    "collapsed": false
   }
  },
  {
   "cell_type": "code",
   "execution_count": null,
   "outputs": [],
   "source": [
    "group = EuclideanGroup()\n",
    "dataset = datasets.CurveNeighborhoodTupletsDataset(\n",
    "    planar_curves_manager=planar_curves_manager,\n",
    "    group=group,\n",
    "    dataset_size=10000,\n",
    "    supporting_points_count=5,\n",
    "    negative_examples_count=2,\n",
    "    min_sampling_ratio=0.3,\n",
    "    max_sampling_ratio=0.9,\n",
    "    min_multimodality=10,\n",
    "    max_multimodality=20,\n",
    "    min_negative_example_offset=5,\n",
    "    max_negative_example_offset=15)\n",
    "\n",
    "for i in range(5):\n",
    "    tuplet = dataset[i]\n",
    "    fig, axes = matplotlib.pyplot.subplots(nrows=1, ncols=tuplet.shape[0], figsize=(50, 10))\n",
    "    for j in range(tuplet.shape[0]):\n",
    "        planar_curve = PlanarCurve(points=tuplet[j], closed=False)\n",
    "        planar_curve.plot_scattered_curve(ax=axes[j], point_size=40)\n",
    "        axes[j].axis('equal')\n",
    "        axes[j].set_xlim([-10, 10])\n",
    "        axes[j].set_ylim([-10, 10])\n",
    "    matplotlib.pyplot.show()"
   ],
   "metadata": {
    "collapsed": false
   }
  },
  {
   "cell_type": "code",
   "execution_count": null,
   "outputs": [],
   "source": [],
   "metadata": {
    "collapsed": false
   }
  }
 ],
 "metadata": {
  "kernelspec": {
   "name": "pycharm-2f0a391f",
   "language": "python",
   "display_name": "PyCharm (deep-signature)"
  },
  "language_info": {
   "codemirror_mode": {
    "name": "ipython",
    "version": 2
   },
   "file_extension": ".py",
   "mimetype": "text/x-python",
   "name": "python",
   "nbconvert_exporter": "python",
   "pygments_lexer": "ipython2",
   "version": "2.7.6"
  }
 },
 "nbformat": 4,
 "nbformat_minor": 0
}
