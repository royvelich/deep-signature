{
 "cells": [
  {
   "cell_type": "code",
   "execution_count": 1,
   "outputs": [
    {
     "name": "stderr",
     "output_type": "stream",
     "text": [
      "C:\\Users\\Roy\\miniconda3\\envs\\deep-signature\\lib\\site-packages\\tqdm\\auto.py:22: TqdmWarning: IProgress not found. Please update jupyter and ipywidgets. See https://ipywidgets.readthedocs.io/en/stable/user_install.html\n",
      "  from .autonotebook import tqdm as notebook_tqdm\n"
     ]
    }
   ],
   "source": [
    "# python peripherals\n",
    "import sys\n",
    "from pathlib import Path\n",
    "sys.path.append('../../.')\n",
    "\n",
    "# matplotlib\n",
    "import matplotlib\n",
    "import matplotlib.pyplot\n",
    "import matplotlib.axes\n",
    "\n",
    "# deep-signature\n",
    "from deep_signature.core.base import SeedableObject\n",
    "from deep_signature.manifolds.planar_curves.implementation import PlanarCurvesManager, PlanarCurve\n",
    "from deep_signature.manifolds.planar_curves.groups import EuclideanGroup, SimilarityGroup, EquiaffineGroup, AffineGroup\n",
    "from deep_signature.core import discrete_distributions\n",
    "from deep_signature.training import datasets\n",
    "\n",
    "SeedableObject.set_seed(seed=30)"
   ],
   "metadata": {
    "collapsed": false
   }
  },
  {
   "cell_type": "code",
   "execution_count": 2,
   "outputs": [
    {
     "ename": "KeyboardInterrupt",
     "evalue": "",
     "output_type": "error",
     "traceback": [
      "\u001B[1;31m---------------------------------------------------------------------------\u001B[0m",
      "\u001B[1;31mKeyboardInterrupt\u001B[0m                         Traceback (most recent call last)",
      "Cell \u001B[1;32mIn [2], line 1\u001B[0m\n\u001B[1;32m----> 1\u001B[0m planar_curves_manager \u001B[38;5;241m=\u001B[39m \u001B[43mPlanarCurvesManager\u001B[49m\u001B[43m(\u001B[49m\u001B[43mcurves_file_path\u001B[49m\u001B[38;5;241;43m=\u001B[39;49m\u001B[43mPath\u001B[49m\u001B[43m(\u001B[49m\u001B[38;5;124;43m\"\u001B[39;49m\u001B[38;5;124;43mC:/deep-signature-data/curves/train/curves.npy\u001B[39;49m\u001B[38;5;124;43m\"\u001B[39;49m\u001B[43m)\u001B[49m\u001B[43m)\u001B[49m\n\u001B[0;32m      2\u001B[0m \u001B[38;5;28mprint\u001B[39m(\u001B[38;5;124mf\u001B[39m\u001B[38;5;124m'\u001B[39m\u001B[38;5;132;01m{\u001B[39;00mplanar_curves_manager\u001B[38;5;241m.\u001B[39mplanar_curves_count\u001B[38;5;132;01m}\u001B[39;00m\u001B[38;5;124m curves loaded\u001B[39m\u001B[38;5;124m'\u001B[39m)\n",
      "File \u001B[1;32mC:\\GitHub\\deep-signature\\applets\\notebooks\\../../.\\deep_signature\\manifolds\\planar_curves\\implementation.py:540\u001B[0m, in \u001B[0;36mPlanarCurvesManager.__init__\u001B[1;34m(self, curves_file_path)\u001B[0m\n\u001B[0;32m    538\u001B[0m \u001B[38;5;28msuper\u001B[39m()\u001B[38;5;241m.\u001B[39m\u001B[38;5;21m__init__\u001B[39m()\n\u001B[0;32m    539\u001B[0m \u001B[38;5;28mself\u001B[39m\u001B[38;5;241m.\u001B[39m_curves_file_path \u001B[38;5;241m=\u001B[39m curves_file_path\n\u001B[1;32m--> 540\u001B[0m \u001B[38;5;28mself\u001B[39m\u001B[38;5;241m.\u001B[39m_planar_curves \u001B[38;5;241m=\u001B[39m \u001B[38;5;28;43mself\u001B[39;49m\u001B[38;5;241;43m.\u001B[39;49m\u001B[43m_load_curves\u001B[49m\u001B[43m(\u001B[49m\u001B[43m)\u001B[49m\n",
      "File \u001B[1;32mC:\\GitHub\\deep-signature\\applets\\notebooks\\../../.\\deep_signature\\manifolds\\planar_curves\\implementation.py:556\u001B[0m, in \u001B[0;36mPlanarCurvesManager._load_curves\u001B[1;34m(self)\u001B[0m\n\u001B[0;32m    554\u001B[0m \u001B[38;5;28;01mdef\u001B[39;00m \u001B[38;5;21m_load_curves\u001B[39m(\u001B[38;5;28mself\u001B[39m) \u001B[38;5;241m-\u001B[39m\u001B[38;5;241m>\u001B[39m List[PlanarCurve]:\n\u001B[0;32m    555\u001B[0m     curves_points \u001B[38;5;241m=\u001B[39m numpy\u001B[38;5;241m.\u001B[39mload(file\u001B[38;5;241m=\u001B[39mos\u001B[38;5;241m.\u001B[39mpath\u001B[38;5;241m.\u001B[39mnormpath(path\u001B[38;5;241m=\u001B[39m\u001B[38;5;28mself\u001B[39m\u001B[38;5;241m.\u001B[39m_curves_file_path), allow_pickle\u001B[38;5;241m=\u001B[39m\u001B[38;5;28;01mTrue\u001B[39;00m)\n\u001B[1;32m--> 556\u001B[0m     curves \u001B[38;5;241m=\u001B[39m [PlanarCurve(points\u001B[38;5;241m=\u001B[39mpoints, closed\u001B[38;5;241m=\u001B[39m\u001B[38;5;28;01mTrue\u001B[39;00m) \u001B[38;5;28;01mfor\u001B[39;00m points \u001B[38;5;129;01min\u001B[39;00m curves_points]\n\u001B[0;32m    557\u001B[0m     centered_curves \u001B[38;5;241m=\u001B[39m []\n\u001B[0;32m    558\u001B[0m     \u001B[38;5;28;01mfor\u001B[39;00m centered_curve \u001B[38;5;129;01min\u001B[39;00m curves:\n",
      "File \u001B[1;32mC:\\GitHub\\deep-signature\\applets\\notebooks\\../../.\\deep_signature\\manifolds\\planar_curves\\implementation.py:556\u001B[0m, in \u001B[0;36m<listcomp>\u001B[1;34m(.0)\u001B[0m\n\u001B[0;32m    554\u001B[0m \u001B[38;5;28;01mdef\u001B[39;00m \u001B[38;5;21m_load_curves\u001B[39m(\u001B[38;5;28mself\u001B[39m) \u001B[38;5;241m-\u001B[39m\u001B[38;5;241m>\u001B[39m List[PlanarCurve]:\n\u001B[0;32m    555\u001B[0m     curves_points \u001B[38;5;241m=\u001B[39m numpy\u001B[38;5;241m.\u001B[39mload(file\u001B[38;5;241m=\u001B[39mos\u001B[38;5;241m.\u001B[39mpath\u001B[38;5;241m.\u001B[39mnormpath(path\u001B[38;5;241m=\u001B[39m\u001B[38;5;28mself\u001B[39m\u001B[38;5;241m.\u001B[39m_curves_file_path), allow_pickle\u001B[38;5;241m=\u001B[39m\u001B[38;5;28;01mTrue\u001B[39;00m)\n\u001B[1;32m--> 556\u001B[0m     curves \u001B[38;5;241m=\u001B[39m [\u001B[43mPlanarCurve\u001B[49m\u001B[43m(\u001B[49m\u001B[43mpoints\u001B[49m\u001B[38;5;241;43m=\u001B[39;49m\u001B[43mpoints\u001B[49m\u001B[43m,\u001B[49m\u001B[43m \u001B[49m\u001B[43mclosed\u001B[49m\u001B[38;5;241;43m=\u001B[39;49m\u001B[38;5;28;43;01mTrue\u001B[39;49;00m\u001B[43m)\u001B[49m \u001B[38;5;28;01mfor\u001B[39;00m points \u001B[38;5;129;01min\u001B[39;00m curves_points]\n\u001B[0;32m    557\u001B[0m     centered_curves \u001B[38;5;241m=\u001B[39m []\n\u001B[0;32m    558\u001B[0m     \u001B[38;5;28;01mfor\u001B[39;00m centered_curve \u001B[38;5;129;01min\u001B[39;00m curves:\n",
      "File \u001B[1;32mC:\\GitHub\\deep-signature\\applets\\notebooks\\../../.\\deep_signature\\manifolds\\planar_curves\\implementation.py:47\u001B[0m, in \u001B[0;36mPlanarCurve.__init__\u001B[1;34m(self, points, closed, reference_curve, reference_indices)\u001B[0m\n\u001B[0;32m     45\u001B[0m \u001B[38;5;28msuper\u001B[39m()\u001B[38;5;241m.\u001B[39m\u001B[38;5;21m__init__\u001B[39m()\n\u001B[0;32m     46\u001B[0m \u001B[38;5;28mself\u001B[39m\u001B[38;5;241m.\u001B[39m_points \u001B[38;5;241m=\u001B[39m points\n\u001B[1;32m---> 47\u001B[0m \u001B[38;5;28;43mself\u001B[39;49m\u001B[38;5;241;43m.\u001B[39;49m\u001B[43m_indices\u001B[49m \u001B[38;5;241m=\u001B[39m numpy\u001B[38;5;241m.\u001B[39marray(\u001B[38;5;28mlist\u001B[39m(\u001B[38;5;28mrange\u001B[39m(points\u001B[38;5;241m.\u001B[39mshape[\u001B[38;5;241m0\u001B[39m])))\n\u001B[0;32m     49\u001B[0m \u001B[38;5;28;01mif\u001B[39;00m closed \u001B[38;5;129;01mis\u001B[39;00m \u001B[38;5;28;01mNone\u001B[39;00m:\n\u001B[0;32m     50\u001B[0m     \u001B[38;5;28mself\u001B[39m\u001B[38;5;241m.\u001B[39m_closed \u001B[38;5;241m=\u001B[39m \u001B[38;5;28mself\u001B[39m\u001B[38;5;241m.\u001B[39mis_closed()\n",
      "\u001B[1;31mKeyboardInterrupt\u001B[0m: "
     ]
    }
   ],
   "source": [
    "planar_curves_manager = PlanarCurvesManager(curves_file_path=Path(\"C:/deep-signature-data/curves/train/curves.npy\"))\n",
    "print(f'{planar_curves_manager.planar_curves_count} curves loaded')"
   ],
   "metadata": {
    "collapsed": false
   }
  },
  {
   "cell_type": "code",
   "execution_count": null,
   "outputs": [],
   "source": [
    "sampling_ratio = 0.3\n",
    "for planar_curve in planar_curves_manager.planar_curves[:5]:\n",
    "    fig, axes = matplotlib.pyplot.subplots(nrows=1, ncols=2, figsize=(40, 10))\n",
    "    discrete_distribution = discrete_distributions.MultimodalGaussianDiscreteDistribution(bins_count=planar_curve.points_count, multimodality=10)\n",
    "    # discrete_distribution = discrete_distributions.UniformDiscreteDistribution(bins_count=planar_curve.points_count)\n",
    "    discrete_distribution.plot_dist(ax=axes[0])\n",
    "    sampled_planar_curve = planar_curve.sample_curve(sampling_ratio=sampling_ratio, discrete_distribution=discrete_distribution)\n",
    "    sampled_planar_curve.plot_scattered_curve(ax=axes[1], cmap='hsv')\n",
    "    matplotlib.pyplot.show()"
   ],
   "metadata": {
    "collapsed": false
   }
  },
  {
   "cell_type": "code",
   "execution_count": null,
   "outputs": [],
   "source": [
    "group = EuclideanGroup()\n",
    "dataset = datasets.CurveNeighborhoodTupletsDataset(\n",
    "    planar_curves_manager=planar_curves_manager,\n",
    "    group=group,\n",
    "    dataset_size=10000,\n",
    "    supporting_points_count=5,\n",
    "    negative_examples_count=2,\n",
    "    min_sampling_ratio=0.3,\n",
    "    max_sampling_ratio=0.9,\n",
    "    min_multimodality=10,\n",
    "    max_multimodality=20,\n",
    "    min_negative_example_offset=5,\n",
    "    max_negative_example_offset=15)\n",
    "\n",
    "for i in range(5):\n",
    "    tuplet = dataset[i]\n",
    "    fig, axes = matplotlib.pyplot.subplots(nrows=1, ncols=tuplet.shape[0], figsize=(50, 10))\n",
    "    for j in range(tuplet.shape[0]):\n",
    "        planar_curve = PlanarCurve(points=tuplet[j], closed=False)\n",
    "        planar_curve.plot_scattered_curve(ax=axes[j], point_size=40)\n",
    "        axes[j].axis('equal')\n",
    "        axes[j].set_xlim([-10, 10])\n",
    "        axes[j].set_ylim([-10, 10])\n",
    "    matplotlib.pyplot.show()"
   ],
   "metadata": {
    "collapsed": false
   }
  },
  {
   "cell_type": "code",
   "execution_count": null,
   "outputs": [],
   "source": [],
   "metadata": {
    "collapsed": false
   }
  }
 ],
 "metadata": {
  "kernelspec": {
   "name": "pycharm-2f0a391f",
   "language": "python",
   "display_name": "PyCharm (deep-signature)"
  },
  "language_info": {
   "codemirror_mode": {
    "name": "ipython",
    "version": 2
   },
   "file_extension": ".py",
   "mimetype": "text/x-python",
   "name": "python",
   "nbconvert_exporter": "python",
   "pygments_lexer": "ipython2",
   "version": "2.7.6"
  }
 },
 "nbformat": 4,
 "nbformat_minor": 0
}
