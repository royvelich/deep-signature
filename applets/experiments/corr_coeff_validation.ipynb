{
 "cells": [
  {
   "cell_type": "code",
   "execution_count": null,
   "outputs": [],
   "source": [
    "import sys\n",
    "# sys.path.append('../../.')\n",
    "\n",
    "# matplotlib\n",
    "import matplotlib\n",
    "import matplotlib.pyplot\n",
    "import matplotlib.axes\n",
    "# matplotlib.pyplot.rcParams['text.usetex'] = True\n",
    "\n",
    "for i in range(3):\n",
    "    fig, axes = matplotlib.pyplot.subplots(nrows=10, ncols=1, figsize=(50, 100))\n",
    "    fig.savefig(f\"C:/Users/Roy/OneDrive - Technion/Thesis/SSVM/pearson_plots5/signature{i}.png\")\n"
   ],
   "metadata": {
    "collapsed": false,
    "ExecuteTime": {
     "start_time": "2023-04-05T01:28:10.272472Z",
     "end_time": "2023-04-05T01:28:22.837745Z"
    }
   }
  },
  {
   "cell_type": "code",
   "execution_count": null,
   "outputs": [],
   "source": [],
   "metadata": {
    "collapsed": false
   }
  }
 ],
 "metadata": {
  "kernelspec": {
   "display_name": "Python 3",
   "language": "python",
   "name": "python3"
  },
  "language_info": {
   "codemirror_mode": {
    "name": "ipython",
    "version": 2
   },
   "file_extension": ".py",
   "mimetype": "text/x-python",
   "name": "python",
   "nbconvert_exporter": "python",
   "pygments_lexer": "ipython2",
   "version": "2.7.6"
  }
 },
 "nbformat": 4,
 "nbformat_minor": 0
}
