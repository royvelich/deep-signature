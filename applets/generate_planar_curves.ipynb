{
 "cells": [
  {
   "cell_type": "code",
   "execution_count": null,
   "metadata": {
    "collapsed": true,
    "pycharm": {
     "name": "#%%\n"
    }
   },
   "outputs": [],
   "source": [
    "# python peripherals\n",
    "from argparse import ArgumentParser\n",
    "import multiprocessing\n",
    "import warnings\n",
    "warnings.filterwarnings(\"ignore\")\n",
    "\n",
    "# deep-signature\n",
    "from deep_signature import manifolds"
   ]
  },
  {
   "cell_type": "code",
   "execution_count": null,
   "outputs": [],
   "source": [
    "curves_count=200\n",
    "images_base_dir_path='C:/deep-signature-data-new/images/train'\n",
    "curves_file_path='C:/deep-signature-data-new/curves/train'\n",
    "sigmas=[2,4,8,16,32]\n",
    "min_contour_level=0.1\n",
    "max_contour_level=0.9\n",
    "min_points_count=200\n",
    "max_points_count=6000\n",
    "workers_count=15\n",
    "queue_maxsize=5000\n",
    "flat_point_threshold=1e-2\n",
    "max_flat_points_ratio=0.05\n",
    "\n",
    "level_curves_manager = manifolds.LevelCurvesManager(\n",
    "    curves_count=curves_count,\n",
    "    images_base_dir_path=images_base_dir_path,\n",
    "    sigmas=sigmas,\n",
    "    min_contour_level=min_contour_level,\n",
    "    max_contour_level=max_contour_level,\n",
    "    min_points_count=min_points_count,\n",
    "    max_points_count=max_points_count,\n",
    "    flat_point_threshold=flat_point_threshold,\n",
    "    max_flat_points_ratio=max_flat_points_ratio)\n",
    "\n",
    "level_curves_manager.process(items_count=curves_count)\n",
    "level_curves_manager.save(items_file_path=curves_file_path)\n",
    "level_curves_manager.plot_curves(curves_count=50, figsize=(20, 20))"
   ],
   "metadata": {
    "collapsed": false,
    "pycharm": {
     "name": "#%%\n"
    }
   }
  }
 ],
 "metadata": {
  "kernelspec": {
   "display_name": "Python 3",
   "language": "python",
   "name": "python3"
  },
  "language_info": {
   "codemirror_mode": {
    "name": "ipython",
    "version": 2
   },
   "file_extension": ".py",
   "mimetype": "text/x-python",
   "name": "python",
   "nbconvert_exporter": "python",
   "pygments_lexer": "ipython2",
   "version": "2.7.6"
  }
 },
 "nbformat": 4,
 "nbformat_minor": 0
}