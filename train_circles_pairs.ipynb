{
 "cells": [
  {
   "cell_type": "markdown",
   "source": [
    "# ** IMPORT PACKAGES: **"
   ],
   "metadata": {
    "collapsed": false
   }
  },
  {
   "cell_type": "code",
   "execution_count": null,
   "outputs": [],
   "source": [
    "# Python peripherals\n",
    "import os\n",
    "import random\n",
    "\n",
    "# Scipy\n",
    "import scipy.io\n",
    "import scipy.stats as ss\n",
    "\n",
    "# Numpy\n",
    "import numpy\n",
    "\n",
    "# Matplotlib\n",
    "import matplotlib.pyplot as plt\n",
    "import matplotlib.collections as mcoll\n",
    "import matplotlib.ticker as ticker\n",
    "\n",
    "# PyTorch\n",
    "import torch\n",
    "from torch.utils.data.sampler import SubsetRandomSampler\n",
    "from torch.utils.data.sampler import SequentialSampler\n",
    "from torch.utils.data import DataLoader\n",
    "\n",
    "# IPython\n",
    "from IPython.display import display, HTML\n",
    "\n",
    "# Deep signature\n",
    "import deep_signature.utils\n",
    "from deep_signature.data_generation import SimpleCurveDatasetGenerator\n",
    "from deep_signature.data_generation import SimpleCurveManager\n",
    "from deep_signature.training import SimpleDeepSignatureDataset\n",
    "from deep_signature.training import DeepSignatureNet\n",
    "from deep_signature.training import SimpleDeepSignatureNet\n",
    "from deep_signature.training import ContrastiveLoss\n",
    "from deep_signature.training import ModelTrainer\n",
    "from deep_signature import curve_processing"
   ],
   "metadata": {
    "collapsed": false,
    "pycharm": {
     "name": "#%%\n"
    }
   }
  },
  {
   "cell_type": "markdown",
   "source": [
    "# ** HELPER FUNCTIONS: **"
   ],
   "metadata": {
    "collapsed": false
   }
  },
  {
   "cell_type": "code",
   "execution_count": null,
   "outputs": [],
   "source": [
    "def chunker(seq, size):\n",
    "    return (seq[pos:pos + size] for pos in range(0, len(seq), size))\n",
    "\n",
    "# https://stackoverflow.com/questions/36074455/python-matplotlib-with-a-line-color-gradient-and-colorbar\n",
    "def colorline(ax, x, y, z=None, cmap='copper', norm=plt.Normalize(0.0, 1.0), linewidth=3, alpha=1.0):\n",
    "    \"\"\"\n",
    "    http://nbviewer.ipython.org/github/dpsanders/matplotlib-examples/blob/master/colorline.ipynb\n",
    "    http://matplotlib.org/examples/pylab_examples/multicolored_line.html\n",
    "    Plot a colored line with coordinates x and y\n",
    "    Optionally specify colors in the array z\n",
    "    Optionally specify a colormap, a norm function and a line width\n",
    "    \"\"\"\n",
    "\n",
    "    # Default colors equally spaced on [0,1]:\n",
    "    if z is None:\n",
    "        z = numpy.linspace(0.0, 1.0, len(x))\n",
    "\n",
    "    # Special case if a single number:\n",
    "    # to check for numerical input -- this is a hack\n",
    "    if not hasattr(z, \"__iter__\"):\n",
    "        z = numpy.array([z])\n",
    "\n",
    "    z = numpy.asarray(z)\n",
    "\n",
    "    segments = make_segments(x, y)\n",
    "    lc = mcoll.LineCollection(segments, array=z, cmap=cmap, norm=norm,\n",
    "                              linewidth=linewidth, alpha=alpha)\n",
    "\n",
    "    # ax = plt.gca()\n",
    "    ax.add_collection(lc)\n",
    "\n",
    "    return lc\n",
    "\n",
    "def make_segments(x, y):\n",
    "    \"\"\"\n",
    "    Create list of line segments from x and y coordinates, in the correct format\n",
    "    for LineCollection: an array of the form numlines x (points per line) x 2 (x\n",
    "    and y) array\n",
    "    \"\"\"\n",
    "\n",
    "    points = numpy.array([x, y]).T.reshape(-1, 1, 2)\n",
    "    segments = numpy.concatenate([points[:-1], points[1:]], axis=1)\n",
    "    return segments\n",
    "\n",
    "def plot_dist(ax, dist):\n",
    "    x = numpy.array(range(dist.shape[0]))\n",
    "    y = dist\n",
    "    ax.set_xlim(x.min(), x.max())\n",
    "    ax.set_ylim(y.min(), y.max())\n",
    "    colorline(ax=ax, x=x, y=y, cmap='hsv')\n",
    "\n",
    "def plot_curve_sample(ax, curve, curve_sample, indices, zorder, point_size=10, alpha=1, cmap='hsv'):\n",
    "    x = curve_sample[:, 0]\n",
    "    y = curve_sample[:, 1]\n",
    "    c = numpy.linspace(0.0, 1.0, curve.shape[0])\n",
    "\n",
    "    ax.scatter(\n",
    "        x=x,\n",
    "        y=y,\n",
    "        c=c[indices],\n",
    "        s=point_size,\n",
    "        cmap=cmap,\n",
    "        alpha=alpha,\n",
    "        norm=plt.Normalize(0.0, 1.0),\n",
    "        zorder=zorder)\n",
    "\n",
    "def plot_curve_section_center_point(ax, x, y, zorder, radius=1, color='white'):\n",
    "    circle = plt.Circle((x, y), radius=radius, color=color, zorder=zorder)\n",
    "    ax.add_artist(circle)\n",
    "\n",
    "def plot_curve(ax, curve, linewidth=2, color='red', alpha=1):\n",
    "    x = curve[:, 0]\n",
    "    y = curve[:, 1]\n",
    "    ax.plot(x, y, linewidth=linewidth, color=color, alpha=alpha)\n",
    "\n",
    "def plot_curvature(ax, curvature, color='red', linewidth=2):\n",
    "    x = range(curvature.shape[0])\n",
    "    y = curvature\n",
    "    ax.plot(x, y, color=color, linewidth=linewidth)\n",
    "\n",
    "def plot_sample(ax, sample, color, zorder, point_size=10, alpha=1):\n",
    "    x = sample[:, 0]\n",
    "    y = sample[:, 1]\n",
    "\n",
    "    ax.scatter(\n",
    "        x=x,\n",
    "        y=y,\n",
    "        s=point_size,\n",
    "        color=color,\n",
    "        alpha=alpha,\n",
    "        zorder=zorder)\n",
    "\n",
    "def all_subdirs_of(b='.'):\n",
    "  result = []\n",
    "  for d in os.listdir(b):\n",
    "    bd = os.path.join(b, d)\n",
    "    if os.path.isdir(bd): result.append(bd)\n",
    "  return result"
   ],
   "metadata": {
    "collapsed": false,
    "pycharm": {
     "name": "#%%\n"
    }
   }
  },
  {
   "cell_type": "markdown",
   "source": [
    "# ** GLOBAL SETTINGS: **"
   ],
   "metadata": {
    "collapsed": false
   }
  },
  {
   "cell_type": "code",
   "execution_count": null,
   "outputs": [],
   "source": [
    "curves_dir_path = 'C:/deep-signature-data/circles/curves'\n",
    "negative_pairs_dir_path='C:/deep-signature-data/circles/negative-pairs'\n",
    "positive_pairs_dir_path='C:/deep-signature-data/circles/positive-pairs'\n",
    "results_base_dir_path = 'C:/deep-signature-data/circles/results'\n",
    "\n",
    "epochs = 100\n",
    "batch_size = 256\n",
    "validation_split = .05\n",
    "learning_rate = 1e-4\n",
    "mu = 1\n",
    "\n",
    "rotation_factor=1\n",
    "sampling_factor=1\n",
    "multimodality_factor=15\n",
    "supporting_points_count=3\n",
    "sampling_points_count=None\n",
    "sampling_points_ratio=0.15\n",
    "sectioning_points_count=None\n",
    "sectioning_points_ratio=0.1\n",
    "sample_points=3\n",
    "\n",
    "plt.style.use(\"dark_background\")"
   ],
   "metadata": {
    "collapsed": false,
    "pycharm": {
     "name": "#%%\n"
    }
   }
  },
  {
   "cell_type": "markdown",
   "source": [
    "# ** SANITY CHECK - CURVES: **"
   ],
   "metadata": {
    "collapsed": false
   }
  },
  {
   "cell_type": "code",
   "execution_count": null,
   "outputs": [],
   "source": [
    "curves = SimpleCurveDatasetGenerator.load_curves(dir_path=curves_dir_path)\n",
    "\n",
    "fig, ax = plt.subplots(1, 1, figsize=(80,40))\n",
    "for label in (ax.get_xticklabels() + ax.get_yticklabels()):\n",
    "    label.set_fontsize(30)\n",
    "ax.axis('equal')\n",
    "\n",
    "limit = 200\n",
    "color_map = plt.get_cmap('rainbow', limit)\n",
    "\n",
    "for i, curve in enumerate(curves[:limit]):\n",
    "    plot_curve(ax=ax, curve=curve, linewidth=5, color=color_map(i))\n",
    "\n",
    "plt.show()"
   ],
   "metadata": {
    "collapsed": false,
    "pycharm": {
     "name": "#%%\n"
    }
   }
  },
  {
   "cell_type": "markdown",
   "source": [
    "# ** SANITY CHECK - NEGATIVE PAIRS **"
   ],
   "metadata": {
    "collapsed": false
   }
  },
  {
   "cell_type": "code",
   "execution_count": null,
   "outputs": [],
   "source": [
    "\n",
    "negative_pairs = SimpleCurveDatasetGenerator.load_negative_pairs(dir_path=negative_pairs_dir_path)\n",
    "\n",
    "rows = 6\n",
    "cols = 6\n",
    "cells = rows * cols\n",
    "fig, ax = plt.subplots(rows, cols, figsize=(40,100))\n",
    "\n",
    "axes = []\n",
    "for i in range(rows):\n",
    "    for j in range(cols):\n",
    "        for label in (ax[i,j].get_xticklabels() + ax[i,j].get_yticklabels()):\n",
    "            label.set_fontsize(10)\n",
    "        # ax[i,j].axis('equal')\n",
    "        axes.append(ax[i,j])\n",
    "\n",
    "numpy.random.shuffle(negative_pairs)\n",
    "for negative_pair_index, negative_pair in enumerate(negative_pairs[:cells]):\n",
    "    ax = axes[negative_pair_index]\n",
    "    plot_sample(ax, negative_pair[0], point_size=50, alpha=1, color='red', zorder=50)\n",
    "    plot_sample(ax, negative_pair[1], point_size=50, alpha=1, color='green', zorder=50)\n",
    "    plot_sample(ax, numpy.array([[0,0]]), point_size=50, alpha=1, color='white', zorder=100)\n",
    "\n",
    "plt.show()"
   ],
   "metadata": {
    "collapsed": false,
    "pycharm": {
     "name": "#%%\n"
    }
   }
  },
  {
   "cell_type": "markdown",
   "source": [
    "# ** SANITY CHECK - POSITIVE PAIRS **"
   ],
   "metadata": {
    "collapsed": false
   }
  },
  {
   "cell_type": "code",
   "execution_count": null,
   "outputs": [],
   "source": [
    "\n",
    "positive_pairs = SimpleCurveDatasetGenerator.load_positive_pairs(dir_path=positive_pairs_dir_path)\n",
    "\n",
    "rows = 6\n",
    "cols = 8\n",
    "cells = rows * cols\n",
    "fig, ax = plt.subplots(rows, cols, figsize=(40,100))\n",
    "\n",
    "axes = []\n",
    "for i in range(rows):\n",
    "    for j in range(cols):\n",
    "        for label in (ax[i,j].get_xticklabels() + ax[i,j].get_yticklabels()):\n",
    "            label.set_fontsize(10)\n",
    "        ax[i,j].axis('equal')\n",
    "        axes.append(ax[i,j])\n",
    "\n",
    "numpy.random.shuffle(positive_pairs)\n",
    "for positive_pair_index, positive_pair in enumerate(positive_pairs[:cells]):\n",
    "    ax = axes[positive_pair_index]\n",
    "    plot_sample(ax, positive_pair[0], point_size=50, alpha=1, color='red', zorder=50)\n",
    "    plot_sample(ax, positive_pair[1], point_size=50, alpha=1, color='green', zorder=50)\n",
    "    plot_sample(ax, numpy.array([[0,0]]), point_size=50, alpha=1, color='white', zorder=100)\n",
    "\n",
    "plt.show()"
   ],
   "metadata": {
    "collapsed": false,
    "pycharm": {
     "name": "#%%\n"
    }
   }
  },
  {
   "cell_type": "markdown",
   "source": [
    "# ** SANITY CHECK - DATASET PAIRS **"
   ],
   "metadata": {
    "collapsed": false
   }
  },
  {
   "cell_type": "code",
   "execution_count": null,
   "outputs": [],
   "source": [
    "dataset = SimpleDeepSignatureDataset()\n",
    "dataset.load_dataset(\n",
    "    negative_pairs_dir_path=negative_pairs_dir_path,\n",
    "    positive_pairs_dir_path=positive_pairs_dir_path)\n",
    "dataset_size = len(dataset)\n",
    "indices = list(range(dataset_size))\n",
    "# numpy.random.shuffle(indices)\n",
    "sampler = SequentialSampler(indices)\n",
    "data_loader = DataLoader(dataset, batch_size=1, sampler=sampler)\n",
    "\n",
    "display(HTML('<h3>Random samples of positive and negative examples:</h3>'))\n",
    "for pair_index, data in enumerate(data_loader, 0):\n",
    "    if pair_index == 10:\n",
    "        break\n",
    "\n",
    "    curve1 = torch.squeeze(torch.squeeze(data['curves_channel1']))\n",
    "    curve2 = torch.squeeze(torch.squeeze(data['curves_channel2']))\n",
    "    label = int(torch.squeeze(data['labels']))\n",
    "\n",
    "    if label == 1:\n",
    "        pair_type = 'Positive'\n",
    "    else:\n",
    "        pair_type = 'Negative'\n",
    "\n",
    "    display(HTML(f'<h3>{pair_type} sample #{pair_index}:</h3>'))\n",
    "\n",
    "    curve1 = curve1.cpu().numpy()\n",
    "    curve2 = curve2.cpu().numpy()\n",
    "\n",
    "    fig, ax = plt.subplots(1, 1, figsize=(5,5))\n",
    "    ax.axis('equal')\n",
    "\n",
    "    plot_sample(\n",
    "        ax=ax,\n",
    "        sample=curve1,\n",
    "        point_size=50,\n",
    "        color='lightcoral',\n",
    "        zorder=50)\n",
    "\n",
    "    plot_sample(\n",
    "        ax=ax,\n",
    "        sample=curve2,\n",
    "        point_size=50,\n",
    "        color='skyblue',\n",
    "        zorder=50)\n",
    "\n",
    "    plot_sample(ax, numpy.array([[0,0]]), point_size=50, alpha=1, color='white', zorder=100)\n",
    "\n",
    "    for label in (ax.get_xticklabels() + ax.get_yticklabels()):\n",
    "        label.set_fontsize(10)\n",
    "\n",
    "    plt.show()"
   ],
   "metadata": {
    "collapsed": false,
    "pycharm": {
     "name": "#%%\n"
    }
   }
  },
  {
   "cell_type": "markdown",
   "source": [
    "# ** TRAINING **"
   ],
   "metadata": {
    "collapsed": false
   }
  },
  {
   "cell_type": "code",
   "execution_count": null,
   "outputs": [],
   "source": [
    "torch.set_default_dtype(torch.float64)\n",
    "dataset = SimpleDeepSignatureDataset()\n",
    "dataset.load_dataset(\n",
    "    negative_pairs_dir_path=negative_pairs_dir_path,\n",
    "    positive_pairs_dir_path=positive_pairs_dir_path)\n",
    "model = SimpleDeepSignatureNet(layers=20, sample_points=sample_points).cuda()\n",
    "optimizer = torch.optim.Adam(model.parameters(), lr=learning_rate)\n",
    "loss_fn = ContrastiveLoss(mu)\n",
    "model_trainer = ModelTrainer(model=model, loss_fn=loss_fn, optimizer=optimizer)\n",
    "\n",
    "print(model)\n",
    "\n",
    "def epoch_handler(epoch_index):\n",
    "    return\n",
    "\n",
    "results = model_trainer.fit(dataset=dataset, epochs=epochs, batch_size=batch_size, results_base_dir_path=results_base_dir_path, epoch_handler=epoch_handler)"
   ],
   "metadata": {
    "collapsed": false,
    "pycharm": {
     "name": "#%%\n"
    }
   }
  },
  {
   "cell_type": "markdown",
   "source": [
    "# ** TRAIN/VALIDATION LOSS **"
   ],
   "metadata": {
    "collapsed": false
   }
  },
  {
   "cell_type": "code",
   "execution_count": null,
   "outputs": [],
   "source": [
    "# results_file_path = os.path.normpath(os.path.join(results_base_dir_path, 'results.npy'))\n",
    "all_subdirs = all_subdirs_of('C:/deep-signature-data/circles/results')\n",
    "latest_subdir = os.path.normpath(max(all_subdirs, key=os.path.getmtime))\n",
    "results = numpy.load(f\"{latest_subdir}/results.npy\", allow_pickle=True).item()\n",
    "\n",
    "epochs = results['epochs']\n",
    "batch_size = results['batch_size']\n",
    "train_loss_array = results['train_loss_array']\n",
    "validation_loss_array = results['validation_loss_array']\n",
    "epochs_list = numpy.array(range(len(train_loss_array)))\n",
    "\n",
    "fig, ax = plt.subplots(1, 1, figsize=(10,10))\n",
    "ax.xaxis.set_major_locator(MaxNLocator(integer=True))\n",
    "\n",
    "for label in (ax.get_xticklabels() + ax.get_yticklabels()):\n",
    "    label.set_fontsize(20)\n",
    "\n",
    "ax.plot(epochs_list, train_loss_array, label='Train Loss', linewidth=7.0)\n",
    "ax.plot(epochs_list, validation_loss_array, label='Validation Loss', linewidth=7.0)\n",
    "plt.legend(fontsize=20, title_fontsize=20)\n",
    "\n",
    "# print(validation_loss_array)\n",
    "plt.show()"
   ],
   "metadata": {
    "collapsed": false,
    "pycharm": {
     "name": "#%%\n"
    }
   }
  },
  {
   "cell_type": "markdown",
   "source": [
    "# ** TEST MODEL **"
   ],
   "metadata": {
    "collapsed": false
   }
  },
  {
   "cell_type": "code",
   "execution_count": null,
   "outputs": [],
   "source": [
    "limit = 30\n",
    "\n",
    "torch.set_default_dtype(torch.float64)\n",
    "device = torch.device('cuda')\n",
    "model = SimpleDeepSignatureNet(layers=2, sample_points=sample_points).cuda()\n",
    "model.load_state_dict(torch.load(results['model_file_path'], map_location=device))\n",
    "model.eval()\n",
    "\n",
    "curves = SimpleCurveDatasetGenerator.load_curves(dir_path=curves_dir_path)\n",
    "\n",
    "limit = 5\n",
    "color_map = plt.get_cmap('rainbow', limit)\n",
    "\n",
    "fig, ax = plt.subplots(2, 1, figsize=(80,100))\n",
    "\n",
    "for label in (ax[0].get_xticklabels() + ax[0].get_yticklabels()):\n",
    "    label.set_fontsize(30)\n",
    "\n",
    "for label in (ax[1].get_xticklabels() + ax[1].get_yticklabels()):\n",
    "    label.set_fontsize(30)\n",
    "\n",
    "ax[0].axis('equal')\n",
    "\n",
    "for curve_index, curve in enumerate(curves[:limit]):\n",
    "    plot_curve(ax=ax[0], curve=curve, color=color_map(curve_index), linewidth=5)\n",
    "\n",
    "    predicted_curvature = numpy.zeros(curve.shape[0])\n",
    "    center_index = 1\n",
    "\n",
    "    # delta = curve.shape[0] * numpy.random.uniform(low=0.1, high=0.105, size=2)\n",
    "    delta = 100\n",
    "    delta2 = 100\n",
    "    for i in range(curve.shape[0]):\n",
    "        delta = curve.shape[0] * numpy.random.uniform(low=0.1, high=0.105, size=2)\n",
    "        # delta2 = int(curve.shape[0] * numpy.random.uniform(0.2, 0.3))\n",
    "        indices = numpy.array([i - int(delta[0]), i, i + int(delta[1])])\n",
    "        # indices = numpy.array([i - delta, i, i + delta2])\n",
    "        indices = numpy.mod(indices, curve.shape[0])\n",
    "        sample = curve[indices]\n",
    "        center_point = sample[center_index]\n",
    "        sample = sample - center_point\n",
    "\n",
    "        if curve_processing.is_ccw(curve_sample=sample) is False:\n",
    "            sample = numpy.flip(sample, axis=0)\n",
    "\n",
    "        radians = curve_processing.calculate_tangent_angle(curve_sample=sample)\n",
    "        sample = curve_processing.rotate_curve(curve=sample, radians=radians)\n",
    "        batch_data = torch.unsqueeze(torch.unsqueeze(torch.from_numpy(sample).double(), dim=0), dim=0).cuda()\n",
    "\n",
    "        with torch.no_grad():\n",
    "            predicted_curvature[i] = torch.squeeze(model(batch_data), dim=0).cpu().detach().numpy()\n",
    "\n",
    "    plot_curvature(ax=ax[1], curvature=predicted_curvature, color=color_map(curve_index), linewidth=5)\n",
    "plt.show()"
   ],
   "metadata": {
    "collapsed": false,
    "pycharm": {
     "name": "#%%\n"
    }
   }
  },
  {
   "cell_type": "code",
   "execution_count": null,
   "metadata": {
    "collapsed": true
   },
   "outputs": [],
   "source": []
  }
 ],
 "metadata": {
  "kernelspec": {
   "display_name": "Python 3",
   "language": "python",
   "name": "python3"
  },
  "language_info": {
   "codemirror_mode": {
    "name": "ipython",
    "version": 2
   },
   "file_extension": ".py",
   "mimetype": "text/x-python",
   "name": "python",
   "nbconvert_exporter": "python",
   "pygments_lexer": "ipython2",
   "version": "2.7.6"
  }
 },
 "nbformat": 4,
 "nbformat_minor": 0
}